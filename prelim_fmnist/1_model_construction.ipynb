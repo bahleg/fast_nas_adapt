{
 "cells": [
  {
   "cell_type": "code",
   "execution_count": null,
   "id": "ab1928a5",
   "metadata": {},
   "outputs": [
    {
     "name": "stdout",
     "output_type": "stream",
     "text": [
      "/usr/local/lib/python3.8/dist-packages/pandas/compat/_optional.py:149: UserWarning: Pandas requires version '1.3.1' or newer of 'bottleneck' (version '1.2.1' currently installed).\n",
      "  warnings.warn(msg, UserWarning)\n",
      "/usr/lib/python3/dist-packages/requests/__init__.py:89: RequestsDependencyWarning: urllib3 (1.26.9) or chardet (3.0.4) doesn't match a supported version!\n",
      "  warnings.warn(\"urllib3 ({}) or chardet ({}) doesn't match a supported \"\n",
      "[2022-06-27 22:59:32] \u001b[32mEpoch [1/50] Step [1/125]  acc1 0.250000 (0.250000)  loss 2.081579 (2.081579)\u001b[0m\n",
      "[2022-06-27 22:59:50] \u001b[32mEpoch [1/50] Step [11/125]  acc1 0.406250 (0.346591)  loss 1.879731 (1.997695)\u001b[0m\n",
      "[2022-06-27 23:00:09] \u001b[32mEpoch [1/50] Step [21/125]  acc1 0.468750 (0.363095)  loss 1.503231 (1.873560)\u001b[0m\n",
      "[2022-06-27 23:00:27] \u001b[32mEpoch [1/50] Step [31/125]  acc1 0.562500 (0.396169)  loss 1.369503 (1.721332)\u001b[0m\n",
      "[2022-06-27 23:00:46] \u001b[32mEpoch [1/50] Step [41/125]  acc1 0.312500 (0.435213)  loss 1.191359 (1.580525)\u001b[0m\n",
      "[2022-06-27 23:01:04] \u001b[32mEpoch [1/50] Step [51/125]  acc1 0.812500 (0.473652)  loss 0.791217 (1.469934)\u001b[0m\n",
      "[2022-06-27 23:01:23] \u001b[32mEpoch [1/50] Step [61/125]  acc1 0.781250 (0.523053)  loss 0.744447 (1.372975)\u001b[0m\n",
      "[2022-06-27 23:01:41] \u001b[32mEpoch [1/50] Step [71/125]  acc1 0.812500 (0.554137)  loss 0.708749 (1.295339)\u001b[0m\n",
      "[2022-06-27 23:02:00] \u001b[32mEpoch [1/50] Step [81/125]  acc1 0.812500 (0.580247)  loss 0.641192 (1.234432)\u001b[0m\n",
      "[2022-06-27 23:02:18] \u001b[32mEpoch [1/50] Step [91/125]  acc1 0.906250 (0.603365)  loss 0.515890 (1.173185)\u001b[0m\n",
      "[2022-06-27 23:02:37] \u001b[32mEpoch [1/50] Step [101/125]  acc1 0.812500 (0.626856)  loss 0.564479 (1.111684)\u001b[0m\n",
      "[2022-06-27 23:02:55] \u001b[32mEpoch [1/50] Step [111/125]  acc1 0.781250 (0.644426)  loss 0.539646 (1.060345)\u001b[0m\n",
      "[2022-06-27 23:03:14] \u001b[32mEpoch [1/50] Step [121/125]  acc1 0.968750 (0.662190)  loss 0.266156 (1.010390)\u001b[0m\n",
      "[2022-06-27 23:03:24] \u001b[32mEpoch [2/50] Step [1/125]  acc1 0.906250 (0.906250)  loss 0.337693 (0.337693)\u001b[0m\n",
      "[2022-06-27 23:03:42] \u001b[32mEpoch [2/50] Step [11/125]  acc1 0.750000 (0.863636)  loss 0.796372 (0.441162)\u001b[0m\n"
     ]
    }
   ],
   "source": [
    "!cd model_construction/; python3 search.py"
   ]
  },
  {
   "cell_type": "code",
   "execution_count": 14,
   "id": "db109916",
   "metadata": {},
   "outputs": [],
   "source": [
    "from torchvision.datasets import CIFAR10, FashionMNIST\n",
    "from torch.utils.data import Subset"
   ]
  },
  {
   "cell_type": "code",
   "execution_count": 15,
   "id": "53ab96a5",
   "metadata": {},
   "outputs": [],
   "source": [
    "dataset_train = FashionMNIST('./data')"
   ]
  },
  {
   "cell_type": "code",
   "execution_count": 17,
   "id": "98c9307d",
   "metadata": {},
   "outputs": [],
   "source": [
    "targets = [5,6]\n",
    "indices = [i for i, label in enumerate(dataset_train.targets) if label in targets]\n",
    "dataset_train = Subset(dataset_train, indices)\n",
    "            "
   ]
  },
  {
   "cell_type": "code",
   "execution_count": 20,
   "id": "a23be157",
   "metadata": {},
   "outputs": [
    {
     "ename": "ZeroDivisionError",
     "evalue": "division by zero",
     "output_type": "error",
     "traceback": [
      "\u001b[0;31m---------------------------------------------------------------------------\u001b[0m",
      "\u001b[0;31mZeroDivisionError\u001b[0m                         Traceback (most recent call last)",
      "Input \u001b[0;32mIn [20]\u001b[0m, in \u001b[0;36m<module>\u001b[0;34m\u001b[0m\n\u001b[1;32m      1\u001b[0m \u001b[38;5;28;01mfor\u001b[39;00m x,y \u001b[38;5;129;01min\u001b[39;00m dataset_train:\n\u001b[0;32m----> 2\u001b[0m     \u001b[38;5;241;43m1\u001b[39;49m\u001b[38;5;241;43m/\u001b[39;49m\u001b[38;5;241;43m0\u001b[39;49m\n",
      "\u001b[0;31mZeroDivisionError\u001b[0m: division by zero"
     ]
    }
   ],
   "source": [
    "for x,y in dataset_train:\n",
    "    1/0"
   ]
  },
  {
   "cell_type": "code",
   "execution_count": 21,
   "id": "9230115e",
   "metadata": {},
   "outputs": [
    {
     "data": {
      "text/plain": [
       "5"
      ]
     },
     "execution_count": 21,
     "metadata": {},
     "output_type": "execute_result"
    }
   ],
   "source": [
    "y"
   ]
  }
 ],
 "metadata": {
  "kernelspec": {
   "display_name": "Python 3 (ipykernel)",
   "language": "python",
   "name": "python3"
  },
  "language_info": {
   "codemirror_mode": {
    "name": "ipython",
    "version": 3
   },
   "file_extension": ".py",
   "mimetype": "text/x-python",
   "name": "python",
   "nbconvert_exporter": "python",
   "pygments_lexer": "ipython3",
   "version": "3.8.10"
  }
 },
 "nbformat": 4,
 "nbformat_minor": 5
}
