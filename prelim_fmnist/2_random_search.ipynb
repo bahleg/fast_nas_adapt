{
 "cells": [
  {
   "cell_type": "code",
   "execution_count": 14,
   "id": "b76d4fe5",
   "metadata": {},
   "outputs": [],
   "source": [
    "import sys\n",
    "sys.path.append('./model_construction/')"
   ]
  },
  {
   "cell_type": "code",
   "execution_count": 15,
   "id": "4c5f27f3",
   "metadata": {},
   "outputs": [],
   "source": [
    "\n",
    "import logging\n",
    "import time\n",
    "from argparse import ArgumentParser\n",
    "\n",
    "import torch\n",
    "import torch.nn as nn\n",
    "from torch.utils.tensorboard import SummaryWriter\n",
    "\n",
    "import datasets\n",
    "import utils\n",
    "import model\n",
    "from nni.nas.pytorch.utils import AverageMeter\n",
    "from nni.retiarii import fixed_arch\n",
    "import random\n",
    "model.add_pruning = True\n"
   ]
  },
  {
   "cell_type": "code",
   "execution_count": 16,
   "id": "5ce0b3d4",
   "metadata": {},
   "outputs": [],
   "source": [
    "logger = logging.getLogger('nni')\n",
    "\n",
    "\n",
    "device = torch.device(\"cuda\" if torch.cuda.is_available() else \"cpu\")\n",
    "writer = SummaryWriter()\n"
   ]
  },
  {
   "cell_type": "code",
   "execution_count": 17,
   "id": "835038ad",
   "metadata": {},
   "outputs": [],
   "source": [
    "import json\n",
    "with open('./model_construction/darts_fmnist2/checkpoint.json') as inp:\n",
    "    base = json.loads(inp.read())"
   ]
  },
  {
   "cell_type": "code",
   "execution_count": 28,
   "id": "b1c5e9ca",
   "metadata": {},
   "outputs": [],
   "source": [
    "!mkdir model_construction/random_pruned"
   ]
  },
  {
   "cell_type": "code",
   "execution_count": 27,
   "id": "8208f53d",
   "metadata": {},
   "outputs": [],
   "source": [
    "base= {\"normal_n2_p0\": \"zero\", \"normal_n2_p1\": \"zero\", \"normal_n3_p0\": \"zero\", \"normal_n3_p1\": \"maxpool\", \"normal_n3_p2\": \"zero\", \"normal_n4_p0\": \"zero\", \"normal_n4_p1\": \"sepconv3x3\", \"normal_n4_p2\": \"zero\", \"normal_n4_p3\": \"zero\", \"normal_n5_p0\": \"zero\", \"normal_n5_p1\": \"dilconv5x5\", \"normal_n5_p2\": \"zero\", \"normal_n5_p3\": \"zero\", \"normal_n5_p4\": \"zero\", \"reduce_n2_p0\": \"zero\", \"reduce_n2_p1\": \"maxpool\", \"reduce_n3_p0\": \"zero\", \"reduce_n3_p1\": \"zero\", \"reduce_n3_p2\": \"zero\", \"reduce_n4_p0\": \"zero\", \"reduce_n4_p1\": \"skipconnect\", \"reduce_n4_p2\": \"zero\", \"reduce_n4_p3\": \"sepconv5x5\", \"reduce_n5_p0\": \"maxpool\", \"reduce_n5_p1\": \"zero\", \"reduce_n5_p2\": \"zero\", \"reduce_n5_p3\": \"zero\", \"reduce_n5_p4\": \"zero\", \"normal_n2_switch\": [1, 0], \"normal_n3_switch\": [2, 1], \"normal_n4_switch\": [3, 2], \"normal_n5_switch\": [2, 3], \"reduce_n2_switch\": [1, 0], \"reduce_n3_switch\": [2, 1], \"reduce_n4_switch\": [3, 2], \"reduce_n5_switch\": [4, 3]}"
   ]
  },
  {
   "cell_type": "code",
   "execution_count": 28,
   "id": "acdf5f92",
   "metadata": {},
   "outputs": [
    {
     "name": "stdout",
     "output_type": "stream",
     "text": [
      "[2022-07-03 12:46:20] \u001b[32mFixed architecture: {'normal_n2_p0': 'zero', 'normal_n2_p1': 'zero', 'normal_n3_p0': 'zero', 'normal_n3_p1': 'maxpool', 'normal_n3_p2': 'zero', 'normal_n4_p0': 'zero', 'normal_n4_p1': 'sepconv3x3', 'normal_n4_p2': 'zero', 'normal_n4_p3': 'zero', 'normal_n5_p0': 'zero', 'normal_n5_p1': 'dilconv5x5', 'normal_n5_p2': 'zero', 'normal_n5_p3': 'zero', 'normal_n5_p4': 'zero', 'reduce_n2_p0': 'zero', 'reduce_n2_p1': 'maxpool', 'reduce_n3_p0': 'zero', 'reduce_n3_p1': 'zero', 'reduce_n3_p2': 'zero', 'reduce_n4_p0': 'zero', 'reduce_n4_p1': 'skipconnect', 'reduce_n4_p2': 'zero', 'reduce_n4_p3': 'sepconv5x5', 'reduce_n5_p0': 'maxpool', 'reduce_n5_p1': 'zero', 'reduce_n5_p2': 'zero', 'reduce_n5_p3': 'zero', 'reduce_n5_p4': 'zero', 'normal_n2_switch': [1, 0], 'normal_n3_switch': [2, 1], 'normal_n4_switch': [3, 2], 'normal_n5_switch': [2, 3], 'reduce_n2_switch': [1, 0], 'reduce_n3_switch': [2, 1], 'reduce_n4_switch': [3, 2], 'reduce_n5_switch': [4, 3]}\u001b[0m\n"
     ]
    }
   ],
   "source": [
    "with fixed_arch(base):\n",
    "        cnn_model = model.CNN(28, 1, 16, 8, 3, auxiliary=True, node_cls=model.ZeroNode)"
   ]
  },
  {
   "cell_type": "code",
   "execution_count": 29,
   "id": "99d4e4d2",
   "metadata": {},
   "outputs": [],
   "source": [
    "dataset_train, dataset_valid = datasets.get_dataset(\"fmnist3\", cutout_length=0)"
   ]
  },
  {
   "cell_type": "code",
   "execution_count": 30,
   "id": "6bad0ce6",
   "metadata": {},
   "outputs": [],
   "source": [
    "train_loader = torch.utils.data.DataLoader(dataset_train,\n",
    "                                               batch_size=4,\n",
    "                                               shuffle=True,\n",
    "                                               num_workers=1)"
   ]
  },
  {
   "cell_type": "code",
   "execution_count": 31,
   "id": "31507086",
   "metadata": {},
   "outputs": [],
   "source": [
    "for x,y in train_loader:\n",
    "    break"
   ]
  },
  {
   "cell_type": "code",
   "execution_count": 32,
   "id": "b1e038aa",
   "metadata": {},
   "outputs": [
    {
     "data": {
      "text/plain": [
       "tensor(0.4911, grad_fn=<SumBackward0>)"
      ]
     },
     "execution_count": 32,
     "metadata": {},
     "output_type": "execute_result"
    }
   ],
   "source": [
    "out = cnn_model(x)\n",
    "abs(out[0][1] - out[0][0]).sum()"
   ]
  },
  {
   "cell_type": "code",
   "execution_count": 24,
   "id": "cff37660",
   "metadata": {},
   "outputs": [
    {
     "data": {
      "text/plain": [
       "(tensor([[ 0.5922,  0.2125, -0.3809,  0.1357, -0.0664, -0.4870, -0.2344,  0.3126],\n",
       "         [ 0.3402, -0.0790, -0.1204,  0.2936,  0.1310, -0.2550, -0.4568, -0.0078],\n",
       "         [ 0.3307,  0.0136, -0.3161,  0.1701,  0.3694, -0.1611, -0.3040,  0.2966],\n",
       "         [ 0.3000,  0.0537, -0.2543,  0.2561,  0.3897, -0.1573, -0.3297,  0.3056]],\n",
       "        grad_fn=<AddmmBackward0>),\n",
       " tensor([[-0.4580, -0.1015, -0.6316, -0.0802,  0.3517,  0.0903, -0.9294,  1.0053],\n",
       "         [ 0.2011, -0.0562, -0.0564,  0.1440, -0.2666,  0.4330,  0.0825,  0.0837],\n",
       "         [ 0.0804, -0.2507,  0.1191,  0.0589, -0.0267, -0.2484, -0.1389, -0.3647],\n",
       "         [ 0.5067, -0.0649,  0.4189,  0.2502,  0.0966, -0.1374, -0.1802,  0.3715]],\n",
       "        grad_fn=<AddmmBackward0>))"
      ]
     },
     "execution_count": 24,
     "metadata": {},
     "output_type": "execute_result"
    }
   ],
   "source": [
    "out"
   ]
  },
  {
   "cell_type": "code",
   "execution_count": 26,
   "id": "d26a519f",
   "metadata": {},
   "outputs": [
    {
     "name": "stdout",
     "output_type": "stream",
     "text": [
      "[2022-07-03 12:45:49] \u001b[32mFixed architecture: {'normal_n2_p0': 'sepconv3x3', 'normal_n2_p1': 'zero', 'normal_n3_p0': 'sepconv3x3', 'normal_n3_p1': 'maxpool', 'normal_n3_p2': 'zero', 'normal_n4_p0': 'zero', 'normal_n4_p1': 'zero', 'normal_n4_p2': 'zero', 'normal_n4_p3': 'sepconv5x5', 'normal_n5_p0': 'dilconv3x3', 'normal_n5_p1': 'dilconv5x5', 'normal_n5_p2': 'sepconv3x3', 'normal_n5_p3': 'dilconv5x5', 'normal_n5_p4': 'dilconv5x5', 'reduce_n2_p0': 'dilconv5x5', 'reduce_n2_p1': 'maxpool', 'reduce_n3_p0': 'dilconv3x3', 'reduce_n3_p1': 'sepconv5x5', 'reduce_n3_p2': 'zero', 'reduce_n4_p0': 'sepconv5x5', 'reduce_n4_p1': 'skipconnect', 'reduce_n4_p2': 'sepconv5x5', 'reduce_n4_p3': 'sepconv5x5', 'reduce_n5_p0': 'zero', 'reduce_n5_p1': 'dilconv5x5', 'reduce_n5_p2': 'dilconv5x5', 'reduce_n5_p3': 'sepconv3x3', 'reduce_n5_p4': 'sepconv5x5', 'normal_n2_switch': [1, 0], 'normal_n3_switch': [2, 1], 'normal_n4_switch': [3, 2], 'normal_n5_switch': [2, 3], 'reduce_n2_switch': [1, 0], 'reduce_n3_switch': [2, 1], 'reduce_n4_switch': [3, 2], 'reduce_n5_switch': [4, 3]}\u001b[0m\n",
      "tensor(1.3002, grad_fn=<SumBackward0>)\n",
      "[2022-07-03 12:45:49] \u001b[32mFixed architecture: {'normal_n2_p0': 'sepconv3x3', 'normal_n2_p1': 'sepconv3x3', 'normal_n3_p0': 'zero', 'normal_n3_p1': 'maxpool', 'normal_n3_p2': 'zero', 'normal_n4_p0': 'zero', 'normal_n4_p1': 'zero', 'normal_n4_p2': 'zero', 'normal_n4_p3': 'zero', 'normal_n5_p0': 'dilconv3x3', 'normal_n5_p1': 'dilconv5x5', 'normal_n5_p2': 'sepconv3x3', 'normal_n5_p3': 'zero', 'normal_n5_p4': 'dilconv5x5', 'reduce_n2_p0': 'zero', 'reduce_n2_p1': 'maxpool', 'reduce_n3_p0': 'dilconv3x3', 'reduce_n3_p1': 'sepconv5x5', 'reduce_n3_p2': 'zero', 'reduce_n4_p0': 'zero', 'reduce_n4_p1': 'skipconnect', 'reduce_n4_p2': 'zero', 'reduce_n4_p3': 'zero', 'reduce_n5_p0': 'maxpool', 'reduce_n5_p1': 'dilconv5x5', 'reduce_n5_p2': 'dilconv5x5', 'reduce_n5_p3': 'zero', 'reduce_n5_p4': 'zero', 'normal_n2_switch': [1, 0], 'normal_n3_switch': [2, 1], 'normal_n4_switch': [3, 2], 'normal_n5_switch': [2, 3], 'reduce_n2_switch': [1, 0], 'reduce_n3_switch': [2, 1], 'reduce_n4_switch': [3, 2], 'reduce_n5_switch': [4, 3]}\u001b[0m\n",
      "tensor(0.4093, grad_fn=<SumBackward0>)\n",
      "[2022-07-03 12:45:49] \u001b[32mFixed architecture: {'normal_n2_p0': 'sepconv3x3', 'normal_n2_p1': 'sepconv3x3', 'normal_n3_p0': 'zero', 'normal_n3_p1': 'maxpool', 'normal_n3_p2': 'zero', 'normal_n4_p0': 'zero', 'normal_n4_p1': 'zero', 'normal_n4_p2': 'zero', 'normal_n4_p3': 'zero', 'normal_n5_p0': 'zero', 'normal_n5_p1': 'dilconv5x5', 'normal_n5_p2': 'zero', 'normal_n5_p3': 'zero', 'normal_n5_p4': 'zero', 'reduce_n2_p0': 'dilconv5x5', 'reduce_n2_p1': 'maxpool', 'reduce_n3_p0': 'dilconv3x3', 'reduce_n3_p1': 'zero', 'reduce_n3_p2': 'zero', 'reduce_n4_p0': 'zero', 'reduce_n4_p1': 'zero', 'reduce_n4_p2': 'zero', 'reduce_n4_p3': 'zero', 'reduce_n5_p0': 'zero', 'reduce_n5_p1': 'zero', 'reduce_n5_p2': 'zero', 'reduce_n5_p3': 'zero', 'reduce_n5_p4': 'zero', 'normal_n2_switch': [1, 0], 'normal_n3_switch': [2, 1], 'normal_n4_switch': [3, 2], 'normal_n5_switch': [2, 3], 'reduce_n2_switch': [1, 0], 'reduce_n3_switch': [2, 1], 'reduce_n4_switch': [3, 2], 'reduce_n5_switch': [4, 3]}\u001b[0m\n",
      "tensor(1.1541, grad_fn=<SumBackward0>)\n",
      "[2022-07-03 12:45:49] \u001b[32mFixed architecture: {'normal_n2_p0': 'sepconv3x3', 'normal_n2_p1': 'sepconv3x3', 'normal_n3_p0': 'sepconv3x3', 'normal_n3_p1': 'zero', 'normal_n3_p2': 'sepconv5x5', 'normal_n4_p0': 'sepconv5x5', 'normal_n4_p1': 'sepconv3x3', 'normal_n4_p2': 'maxpool', 'normal_n4_p3': 'sepconv5x5', 'normal_n5_p0': 'dilconv3x3', 'normal_n5_p1': 'dilconv5x5', 'normal_n5_p2': 'zero', 'normal_n5_p3': 'zero', 'normal_n5_p4': 'dilconv5x5', 'reduce_n2_p0': 'dilconv5x5', 'reduce_n2_p1': 'zero', 'reduce_n3_p0': 'dilconv3x3', 'reduce_n3_p1': 'sepconv5x5', 'reduce_n3_p2': 'dilconv5x5', 'reduce_n4_p0': 'zero', 'reduce_n4_p1': 'zero', 'reduce_n4_p2': 'sepconv5x5', 'reduce_n4_p3': 'sepconv5x5', 'reduce_n5_p0': 'maxpool', 'reduce_n5_p1': 'zero', 'reduce_n5_p2': 'dilconv5x5', 'reduce_n5_p3': 'sepconv3x3', 'reduce_n5_p4': 'sepconv5x5', 'normal_n2_switch': [1, 0], 'normal_n3_switch': [2, 1], 'normal_n4_switch': [3, 2], 'normal_n5_switch': [2, 3], 'reduce_n2_switch': [1, 0], 'reduce_n3_switch': [2, 1], 'reduce_n4_switch': [3, 2], 'reduce_n5_switch': [4, 3]}\u001b[0m\n",
      "tensor(1.4747, grad_fn=<SumBackward0>)\n",
      "[2022-07-03 12:45:49] \u001b[32mFixed architecture: {'normal_n2_p0': 'zero', 'normal_n2_p1': 'sepconv3x3', 'normal_n3_p0': 'zero', 'normal_n3_p1': 'maxpool', 'normal_n3_p2': 'sepconv5x5', 'normal_n4_p0': 'zero', 'normal_n4_p1': 'zero', 'normal_n4_p2': 'zero', 'normal_n4_p3': 'sepconv5x5', 'normal_n5_p0': 'dilconv3x3', 'normal_n5_p1': 'zero', 'normal_n5_p2': 'sepconv3x3', 'normal_n5_p3': 'dilconv5x5', 'normal_n5_p4': 'zero', 'reduce_n2_p0': 'zero', 'reduce_n2_p1': 'maxpool', 'reduce_n3_p0': 'zero', 'reduce_n3_p1': 'zero', 'reduce_n3_p2': 'dilconv5x5', 'reduce_n4_p0': 'sepconv5x5', 'reduce_n4_p1': 'zero', 'reduce_n4_p2': 'zero', 'reduce_n4_p3': 'sepconv5x5', 'reduce_n5_p0': 'maxpool', 'reduce_n5_p1': 'zero', 'reduce_n5_p2': 'zero', 'reduce_n5_p3': 'sepconv3x3', 'reduce_n5_p4': 'sepconv5x5', 'normal_n2_switch': [1, 0], 'normal_n3_switch': [2, 1], 'normal_n4_switch': [3, 2], 'normal_n5_switch': [2, 3], 'reduce_n2_switch': [1, 0], 'reduce_n3_switch': [2, 1], 'reduce_n4_switch': [3, 2], 'reduce_n5_switch': [4, 3]}\u001b[0m\n",
      "tensor(1.2311, grad_fn=<SumBackward0>)\n",
      "[2022-07-03 12:45:49] \u001b[32mFixed architecture: {'normal_n2_p0': 'sepconv3x3', 'normal_n2_p1': 'zero', 'normal_n3_p0': 'zero', 'normal_n3_p1': 'zero', 'normal_n3_p2': 'sepconv5x5', 'normal_n4_p0': 'sepconv5x5', 'normal_n4_p1': 'sepconv3x3', 'normal_n4_p2': 'zero', 'normal_n4_p3': 'zero', 'normal_n5_p0': 'dilconv3x3', 'normal_n5_p1': 'dilconv5x5', 'normal_n5_p2': 'zero', 'normal_n5_p3': 'zero', 'normal_n5_p4': 'zero', 'reduce_n2_p0': 'zero', 'reduce_n2_p1': 'zero', 'reduce_n3_p0': 'zero', 'reduce_n3_p1': 'sepconv5x5', 'reduce_n3_p2': 'zero', 'reduce_n4_p0': 'zero', 'reduce_n4_p1': 'zero', 'reduce_n4_p2': 'zero', 'reduce_n4_p3': 'zero', 'reduce_n5_p0': 'zero', 'reduce_n5_p1': 'zero', 'reduce_n5_p2': 'zero', 'reduce_n5_p3': 'zero', 'reduce_n5_p4': 'zero', 'normal_n2_switch': [1, 0], 'normal_n3_switch': [2, 1], 'normal_n4_switch': [3, 2], 'normal_n5_switch': [2, 3], 'reduce_n2_switch': [1, 0], 'reduce_n3_switch': [2, 1], 'reduce_n4_switch': [3, 2], 'reduce_n5_switch': [4, 3]}\u001b[0m\n",
      "tensor(0.5369, grad_fn=<SumBackward0>)\n",
      "[2022-07-03 12:45:49] \u001b[32mFixed architecture: {'normal_n2_p0': 'sepconv3x3', 'normal_n2_p1': 'zero', 'normal_n3_p0': 'sepconv3x3', 'normal_n3_p1': 'maxpool', 'normal_n3_p2': 'sepconv5x5', 'normal_n4_p0': 'sepconv5x5', 'normal_n4_p1': 'sepconv3x3', 'normal_n4_p2': 'zero', 'normal_n4_p3': 'zero', 'normal_n5_p0': 'dilconv3x3', 'normal_n5_p1': 'zero', 'normal_n5_p2': 'sepconv3x3', 'normal_n5_p3': 'dilconv5x5', 'normal_n5_p4': 'dilconv5x5', 'reduce_n2_p0': 'dilconv5x5', 'reduce_n2_p1': 'maxpool', 'reduce_n3_p0': 'dilconv3x3', 'reduce_n3_p1': 'sepconv5x5', 'reduce_n3_p2': 'dilconv5x5', 'reduce_n4_p0': 'zero', 'reduce_n4_p1': 'skipconnect', 'reduce_n4_p2': 'zero', 'reduce_n4_p3': 'sepconv5x5', 'reduce_n5_p0': 'maxpool', 'reduce_n5_p1': 'zero', 'reduce_n5_p2': 'dilconv5x5', 'reduce_n5_p3': 'sepconv3x3', 'reduce_n5_p4': 'sepconv5x5', 'normal_n2_switch': [1, 0], 'normal_n3_switch': [2, 1], 'normal_n4_switch': [3, 2], 'normal_n5_switch': [2, 3], 'reduce_n2_switch': [1, 0], 'reduce_n3_switch': [2, 1], 'reduce_n4_switch': [3, 2], 'reduce_n5_switch': [4, 3]}\u001b[0m\n",
      "tensor(1.1835, grad_fn=<SumBackward0>)\n",
      "[2022-07-03 12:45:50] \u001b[32mFixed architecture: {'normal_n2_p0': 'zero', 'normal_n2_p1': 'zero', 'normal_n3_p0': 'zero', 'normal_n3_p1': 'zero', 'normal_n3_p2': 'sepconv5x5', 'normal_n4_p0': 'sepconv5x5', 'normal_n4_p1': 'zero', 'normal_n4_p2': 'zero', 'normal_n4_p3': 'sepconv5x5', 'normal_n5_p0': 'dilconv3x3', 'normal_n5_p1': 'zero', 'normal_n5_p2': 'zero', 'normal_n5_p3': 'zero', 'normal_n5_p4': 'dilconv5x5', 'reduce_n2_p0': 'dilconv5x5', 'reduce_n2_p1': 'zero', 'reduce_n3_p0': 'zero', 'reduce_n3_p1': 'zero', 'reduce_n3_p2': 'dilconv5x5', 'reduce_n4_p0': 'sepconv5x5', 'reduce_n4_p1': 'skipconnect', 'reduce_n4_p2': 'sepconv5x5', 'reduce_n4_p3': 'zero', 'reduce_n5_p0': 'maxpool', 'reduce_n5_p1': 'dilconv5x5', 'reduce_n5_p2': 'zero', 'reduce_n5_p3': 'sepconv3x3', 'reduce_n5_p4': 'sepconv5x5', 'normal_n2_switch': [1, 0], 'normal_n3_switch': [2, 1], 'normal_n4_switch': [3, 2], 'normal_n5_switch': [2, 3], 'reduce_n2_switch': [1, 0], 'reduce_n3_switch': [2, 1], 'reduce_n4_switch': [3, 2], 'reduce_n5_switch': [4, 3]}\u001b[0m\n"
     ]
    },
    {
     "name": "stdout",
     "output_type": "stream",
     "text": [
      "zero path 2 50\n",
      "[2022-07-03 12:45:50] \u001b[32mFixed architecture: {'normal_n2_p0': 'sepconv3x3', 'normal_n2_p1': 'zero', 'normal_n3_p0': 'sepconv3x3', 'normal_n3_p1': 'maxpool', 'normal_n3_p2': 'zero', 'normal_n4_p0': 'sepconv5x5', 'normal_n4_p1': 'zero', 'normal_n4_p2': 'maxpool', 'normal_n4_p3': 'zero', 'normal_n5_p0': 'zero', 'normal_n5_p1': 'zero', 'normal_n5_p2': 'sepconv3x3', 'normal_n5_p3': 'dilconv5x5', 'normal_n5_p4': 'zero', 'reduce_n2_p0': 'dilconv5x5', 'reduce_n2_p1': 'zero', 'reduce_n3_p0': 'dilconv3x3', 'reduce_n3_p1': 'sepconv5x5', 'reduce_n3_p2': 'zero', 'reduce_n4_p0': 'sepconv5x5', 'reduce_n4_p1': 'zero', 'reduce_n4_p2': 'sepconv5x5', 'reduce_n4_p3': 'zero', 'reduce_n5_p0': 'maxpool', 'reduce_n5_p1': 'zero', 'reduce_n5_p2': 'zero', 'reduce_n5_p3': 'sepconv3x3', 'reduce_n5_p4': 'zero', 'normal_n2_switch': [1, 0], 'normal_n3_switch': [2, 1], 'normal_n4_switch': [3, 2], 'normal_n5_switch': [2, 3], 'reduce_n2_switch': [1, 0], 'reduce_n3_switch': [2, 1], 'reduce_n4_switch': [3, 2], 'reduce_n5_switch': [4, 3]}\u001b[0m\n",
      "tensor(0.8135, grad_fn=<SumBackward0>)\n",
      "[2022-07-03 12:45:50] \u001b[32mFixed architecture: {'normal_n2_p0': 'zero', 'normal_n2_p1': 'zero', 'normal_n3_p0': 'sepconv3x3', 'normal_n3_p1': 'zero', 'normal_n3_p2': 'sepconv5x5', 'normal_n4_p0': 'zero', 'normal_n4_p1': 'zero', 'normal_n4_p2': 'maxpool', 'normal_n4_p3': 'zero', 'normal_n5_p0': 'zero', 'normal_n5_p1': 'zero', 'normal_n5_p2': 'zero', 'normal_n5_p3': 'zero', 'normal_n5_p4': 'zero', 'reduce_n2_p0': 'zero', 'reduce_n2_p1': 'maxpool', 'reduce_n3_p0': 'zero', 'reduce_n3_p1': 'zero', 'reduce_n3_p2': 'dilconv5x5', 'reduce_n4_p0': 'zero', 'reduce_n4_p1': 'zero', 'reduce_n4_p2': 'zero', 'reduce_n4_p3': 'zero', 'reduce_n5_p0': 'zero', 'reduce_n5_p1': 'dilconv5x5', 'reduce_n5_p2': 'zero', 'reduce_n5_p3': 'sepconv3x3', 'reduce_n5_p4': 'zero', 'normal_n2_switch': [1, 0], 'normal_n3_switch': [2, 1], 'normal_n4_switch': [3, 2], 'normal_n5_switch': [2, 3], 'reduce_n2_switch': [1, 0], 'reduce_n3_switch': [2, 1], 'reduce_n4_switch': [3, 2], 'reduce_n5_switch': [4, 3]}\u001b[0m\n",
      "zero path 2 75\n",
      "[2022-07-03 12:45:50] \u001b[32mFixed architecture: {'normal_n2_p0': 'zero', 'normal_n2_p1': 'zero', 'normal_n3_p0': 'zero', 'normal_n3_p1': 'zero', 'normal_n3_p2': 'sepconv5x5', 'normal_n4_p0': 'zero', 'normal_n4_p1': 'zero', 'normal_n4_p2': 'zero', 'normal_n4_p3': 'sepconv5x5', 'normal_n5_p0': 'zero', 'normal_n5_p1': 'zero', 'normal_n5_p2': 'zero', 'normal_n5_p3': 'zero', 'normal_n5_p4': 'zero', 'reduce_n2_p0': 'zero', 'reduce_n2_p1': 'zero', 'reduce_n3_p0': 'zero', 'reduce_n3_p1': 'zero', 'reduce_n3_p2': 'dilconv5x5', 'reduce_n4_p0': 'sepconv5x5', 'reduce_n4_p1': 'zero', 'reduce_n4_p2': 'sepconv5x5', 'reduce_n4_p3': 'zero', 'reduce_n5_p0': 'zero', 'reduce_n5_p1': 'zero', 'reduce_n5_p2': 'dilconv5x5', 'reduce_n5_p3': 'zero', 'reduce_n5_p4': 'sepconv5x5', 'normal_n2_switch': [1, 0], 'normal_n3_switch': [2, 1], 'normal_n4_switch': [3, 2], 'normal_n5_switch': [2, 3], 'reduce_n2_switch': [1, 0], 'reduce_n3_switch': [2, 1], 'reduce_n4_switch': [3, 2], 'reduce_n5_switch': [4, 3]}\u001b[0m\n",
      "zero path 2 75\n",
      "[2022-07-03 12:45:50] \u001b[32mFixed architecture: {'normal_n2_p0': 'zero', 'normal_n2_p1': 'zero', 'normal_n3_p0': 'zero', 'normal_n3_p1': 'maxpool', 'normal_n3_p2': 'zero', 'normal_n4_p0': 'zero', 'normal_n4_p1': 'sepconv3x3', 'normal_n4_p2': 'zero', 'normal_n4_p3': 'zero', 'normal_n5_p0': 'zero', 'normal_n5_p1': 'dilconv5x5', 'normal_n5_p2': 'zero', 'normal_n5_p3': 'zero', 'normal_n5_p4': 'zero', 'reduce_n2_p0': 'zero', 'reduce_n2_p1': 'maxpool', 'reduce_n3_p0': 'zero', 'reduce_n3_p1': 'zero', 'reduce_n3_p2': 'zero', 'reduce_n4_p0': 'zero', 'reduce_n4_p1': 'skipconnect', 'reduce_n4_p2': 'zero', 'reduce_n4_p3': 'sepconv5x5', 'reduce_n5_p0': 'maxpool', 'reduce_n5_p1': 'zero', 'reduce_n5_p2': 'zero', 'reduce_n5_p3': 'zero', 'reduce_n5_p4': 'zero', 'normal_n2_switch': [1, 0], 'normal_n3_switch': [2, 1], 'normal_n4_switch': [3, 2], 'normal_n5_switch': [2, 3], 'reduce_n2_switch': [1, 0], 'reduce_n3_switch': [2, 1], 'reduce_n4_switch': [3, 2], 'reduce_n5_switch': [4, 3]}\u001b[0m\n",
      "tensor(0.5186, grad_fn=<SumBackward0>)\n"
     ]
    }
   ],
   "source": [
    "for run_num in range(3):\n",
    "    for percent in [25, 50, 75]:\n",
    "        while True:\n",
    "            modified = base.copy()\n",
    "            all_keys = [k for k in modified if 'switch' not in k]\n",
    "            random.shuffle(all_keys)\n",
    "            all_keys = all_keys[:len(all_keys)*percent//100]\n",
    "            for k in all_keys:\n",
    "                modified[k] = 'zero'\n",
    "            with fixed_arch(modified):\n",
    "                cnn_model = model.CNN(28, 1, 16, 8, 3, auxiliary=True, node_cls=model.ZeroNode)\n",
    "            out = cnn_model(x)\n",
    "            if abs(out[0][1] - out[0][0]).sum()>1e-3:\n",
    "                print (abs(out[0][1] - out[0][0]).sum())\n",
    "                with open(f'model_construction/random_pruned/{run_num}_{percent}.json', 'w') as out:\n",
    "                    out.write(json.dumps(modified))\n",
    "                    \n",
    "                    break\n",
    "                \n",
    "            else:\n",
    "                print ('zero path', run_num, percent)"
   ]
  },
  {
   "cell_type": "code",
   "execution_count": 40,
   "id": "058107ff",
   "metadata": {},
   "outputs": [
    {
     "name": "stdout",
     "output_type": "stream",
     "text": [
      "[2022-07-02 00:04:05] \u001b[32mFixed architecture: {'normal_n2_p0': 'zero', 'normal_n2_p1': 'zero', 'normal_n3_p0': 'zero', 'normal_n3_p1': 'zero', 'normal_n3_p2': 'zero', 'normal_n4_p0': 'zero', 'normal_n4_p1': 'zero', 'normal_n4_p2': 'zero', 'normal_n4_p3': 'zero', 'normal_n5_p0': 'zero', 'normal_n5_p1': 'zero', 'normal_n5_p2': 'zero', 'normal_n5_p3': 'zero', 'normal_n5_p4': 'zero', 'reduce_n2_p0': 'zero', 'reduce_n2_p1': 'zero', 'reduce_n3_p0': 'zero', 'reduce_n3_p1': 'zero', 'reduce_n3_p2': 'zero', 'reduce_n4_p0': 'zero', 'reduce_n4_p1': 'zero', 'reduce_n4_p2': 'zero', 'reduce_n4_p3': 'zero', 'reduce_n5_p0': 'zero', 'reduce_n5_p1': 'zero', 'reduce_n5_p2': 'zero', 'reduce_n5_p3': 'zero', 'reduce_n5_p4': 'zero', 'normal_n2_switch': [1, 0], 'normal_n3_switch': [2, 1], 'normal_n4_switch': [3, 2], 'normal_n5_switch': [2, 3], 'reduce_n2_switch': [1, 0], 'reduce_n3_switch': [2, 1], 'reduce_n4_switch': [3, 2], 'reduce_n5_switch': [4, 3]}\u001b[0m\n",
      "zero path\n",
      "[2022-07-02 00:04:05] \u001b[32mFixed architecture: {'normal_n2_p0': 'zero', 'normal_n2_p1': 'zero', 'normal_n3_p0': 'zero', 'normal_n3_p1': 'zero', 'normal_n3_p2': 'zero', 'normal_n4_p0': 'zero', 'normal_n4_p1': 'zero', 'normal_n4_p2': 'zero', 'normal_n4_p3': 'zero', 'normal_n5_p0': 'zero', 'normal_n5_p1': 'zero', 'normal_n5_p2': 'zero', 'normal_n5_p3': 'zero', 'normal_n5_p4': 'zero', 'reduce_n2_p0': 'zero', 'reduce_n2_p1': 'zero', 'reduce_n3_p0': 'zero', 'reduce_n3_p1': 'zero', 'reduce_n3_p2': 'zero', 'reduce_n4_p0': 'zero', 'reduce_n4_p1': 'zero', 'reduce_n4_p2': 'zero', 'reduce_n4_p3': 'zero', 'reduce_n5_p0': 'zero', 'reduce_n5_p1': 'zero', 'reduce_n5_p2': 'zero', 'reduce_n5_p3': 'zero', 'reduce_n5_p4': 'zero', 'normal_n2_switch': [1, 0], 'normal_n3_switch': [2, 1], 'normal_n4_switch': [3, 2], 'normal_n5_switch': [2, 3], 'reduce_n2_switch': [1, 0], 'reduce_n3_switch': [2, 1], 'reduce_n4_switch': [3, 2], 'reduce_n5_switch': [4, 3]}\u001b[0m\n",
      "zero path\n",
      "[2022-07-02 00:04:06] \u001b[32mFixed architecture: {'normal_n2_p0': 'zero', 'normal_n2_p1': 'zero', 'normal_n3_p0': 'zero', 'normal_n3_p1': 'zero', 'normal_n3_p2': 'zero', 'normal_n4_p0': 'zero', 'normal_n4_p1': 'zero', 'normal_n4_p2': 'zero', 'normal_n4_p3': 'zero', 'normal_n5_p0': 'zero', 'normal_n5_p1': 'zero', 'normal_n5_p2': 'zero', 'normal_n5_p3': 'zero', 'normal_n5_p4': 'zero', 'reduce_n2_p0': 'zero', 'reduce_n2_p1': 'zero', 'reduce_n3_p0': 'zero', 'reduce_n3_p1': 'zero', 'reduce_n3_p2': 'zero', 'reduce_n4_p0': 'zero', 'reduce_n4_p1': 'zero', 'reduce_n4_p2': 'zero', 'reduce_n4_p3': 'zero', 'reduce_n5_p0': 'zero', 'reduce_n5_p1': 'zero', 'reduce_n5_p2': 'zero', 'reduce_n5_p3': 'zero', 'reduce_n5_p4': 'zero', 'normal_n2_switch': [1, 0], 'normal_n3_switch': [2, 1], 'normal_n4_switch': [3, 2], 'normal_n5_switch': [2, 3], 'reduce_n2_switch': [1, 0], 'reduce_n3_switch': [2, 1], 'reduce_n4_switch': [3, 2], 'reduce_n5_switch': [4, 3]}\u001b[0m\n",
      "zero path\n",
      "[2022-07-02 00:04:06] \u001b[32mFixed architecture: {'normal_n2_p0': 'zero', 'normal_n2_p1': 'zero', 'normal_n3_p0': 'zero', 'normal_n3_p1': 'zero', 'normal_n3_p2': 'zero', 'normal_n4_p0': 'zero', 'normal_n4_p1': 'zero', 'normal_n4_p2': 'zero', 'normal_n4_p3': 'zero', 'normal_n5_p0': 'zero', 'normal_n5_p1': 'zero', 'normal_n5_p2': 'zero', 'normal_n5_p3': 'zero', 'normal_n5_p4': 'zero', 'reduce_n2_p0': 'zero', 'reduce_n2_p1': 'zero', 'reduce_n3_p0': 'zero', 'reduce_n3_p1': 'zero', 'reduce_n3_p2': 'zero', 'reduce_n4_p0': 'zero', 'reduce_n4_p1': 'zero', 'reduce_n4_p2': 'zero', 'reduce_n4_p3': 'zero', 'reduce_n5_p0': 'zero', 'reduce_n5_p1': 'zero', 'reduce_n5_p2': 'zero', 'reduce_n5_p3': 'zero', 'reduce_n5_p4': 'zero', 'normal_n2_switch': [1, 0], 'normal_n3_switch': [2, 1], 'normal_n4_switch': [3, 2], 'normal_n5_switch': [2, 3], 'reduce_n2_switch': [1, 0], 'reduce_n3_switch': [2, 1], 'reduce_n4_switch': [3, 2], 'reduce_n5_switch': [4, 3]}\u001b[0m\n",
      "zero path\n",
      "[2022-07-02 00:04:06] \u001b[32mFixed architecture: {'normal_n2_p0': 'zero', 'normal_n2_p1': 'zero', 'normal_n3_p0': 'zero', 'normal_n3_p1': 'zero', 'normal_n3_p2': 'zero', 'normal_n4_p0': 'zero', 'normal_n4_p1': 'zero', 'normal_n4_p2': 'zero', 'normal_n4_p3': 'zero', 'normal_n5_p0': 'zero', 'normal_n5_p1': 'zero', 'normal_n5_p2': 'zero', 'normal_n5_p3': 'zero', 'normal_n5_p4': 'zero', 'reduce_n2_p0': 'zero', 'reduce_n2_p1': 'zero', 'reduce_n3_p0': 'zero', 'reduce_n3_p1': 'zero', 'reduce_n3_p2': 'zero', 'reduce_n4_p0': 'zero', 'reduce_n4_p1': 'zero', 'reduce_n4_p2': 'zero', 'reduce_n4_p3': 'zero', 'reduce_n5_p0': 'zero', 'reduce_n5_p1': 'zero', 'reduce_n5_p2': 'zero', 'reduce_n5_p3': 'zero', 'reduce_n5_p4': 'zero', 'normal_n2_switch': [1, 0], 'normal_n3_switch': [2, 1], 'normal_n4_switch': [3, 2], 'normal_n5_switch': [2, 3], 'reduce_n2_switch': [1, 0], 'reduce_n3_switch': [2, 1], 'reduce_n4_switch': [3, 2], 'reduce_n5_switch': [4, 3]}\u001b[0m\n",
      "zero path\n",
      "[2022-07-02 00:04:06] \u001b[32mFixed architecture: {'normal_n2_p0': 'zero', 'normal_n2_p1': 'zero', 'normal_n3_p0': 'zero', 'normal_n3_p1': 'zero', 'normal_n3_p2': 'zero', 'normal_n4_p0': 'zero', 'normal_n4_p1': 'zero', 'normal_n4_p2': 'zero', 'normal_n4_p3': 'zero', 'normal_n5_p0': 'zero', 'normal_n5_p1': 'zero', 'normal_n5_p2': 'zero', 'normal_n5_p3': 'zero', 'normal_n5_p4': 'zero', 'reduce_n2_p0': 'zero', 'reduce_n2_p1': 'zero', 'reduce_n3_p0': 'zero', 'reduce_n3_p1': 'zero', 'reduce_n3_p2': 'zero', 'reduce_n4_p0': 'zero', 'reduce_n4_p1': 'zero', 'reduce_n4_p2': 'zero', 'reduce_n4_p3': 'zero', 'reduce_n5_p0': 'zero', 'reduce_n5_p1': 'zero', 'reduce_n5_p2': 'zero', 'reduce_n5_p3': 'zero', 'reduce_n5_p4': 'zero', 'normal_n2_switch': [1, 0], 'normal_n3_switch': [2, 1], 'normal_n4_switch': [3, 2], 'normal_n5_switch': [2, 3], 'reduce_n2_switch': [1, 0], 'reduce_n3_switch': [2, 1], 'reduce_n4_switch': [3, 2], 'reduce_n5_switch': [4, 3]}\u001b[0m\n",
      "zero path\n",
      "[2022-07-02 00:04:06] \u001b[32mFixed architecture: {'normal_n2_p0': 'zero', 'normal_n2_p1': 'zero', 'normal_n3_p0': 'zero', 'normal_n3_p1': 'zero', 'normal_n3_p2': 'zero', 'normal_n4_p0': 'zero', 'normal_n4_p1': 'zero', 'normal_n4_p2': 'zero', 'normal_n4_p3': 'zero', 'normal_n5_p0': 'zero', 'normal_n5_p1': 'zero', 'normal_n5_p2': 'zero', 'normal_n5_p3': 'zero', 'normal_n5_p4': 'zero', 'reduce_n2_p0': 'zero', 'reduce_n2_p1': 'zero', 'reduce_n3_p0': 'zero', 'reduce_n3_p1': 'zero', 'reduce_n3_p2': 'zero', 'reduce_n4_p0': 'zero', 'reduce_n4_p1': 'zero', 'reduce_n4_p2': 'zero', 'reduce_n4_p3': 'zero', 'reduce_n5_p0': 'zero', 'reduce_n5_p1': 'zero', 'reduce_n5_p2': 'zero', 'reduce_n5_p3': 'zero', 'reduce_n5_p4': 'zero', 'normal_n2_switch': [1, 0], 'normal_n3_switch': [2, 1], 'normal_n4_switch': [3, 2], 'normal_n5_switch': [2, 3], 'reduce_n2_switch': [1, 0], 'reduce_n3_switch': [2, 1], 'reduce_n4_switch': [3, 2], 'reduce_n5_switch': [4, 3]}\u001b[0m\n",
      "zero path\n",
      "[2022-07-02 00:04:06] \u001b[32mFixed architecture: {'normal_n2_p0': 'zero', 'normal_n2_p1': 'zero', 'normal_n3_p0': 'zero', 'normal_n3_p1': 'zero', 'normal_n3_p2': 'zero', 'normal_n4_p0': 'zero', 'normal_n4_p1': 'zero', 'normal_n4_p2': 'zero', 'normal_n4_p3': 'zero', 'normal_n5_p0': 'zero', 'normal_n5_p1': 'zero', 'normal_n5_p2': 'zero', 'normal_n5_p3': 'zero', 'normal_n5_p4': 'zero', 'reduce_n2_p0': 'zero', 'reduce_n2_p1': 'zero', 'reduce_n3_p0': 'zero', 'reduce_n3_p1': 'zero', 'reduce_n3_p2': 'zero', 'reduce_n4_p0': 'zero', 'reduce_n4_p1': 'zero', 'reduce_n4_p2': 'zero', 'reduce_n4_p3': 'zero', 'reduce_n5_p0': 'zero', 'reduce_n5_p1': 'zero', 'reduce_n5_p2': 'zero', 'reduce_n5_p3': 'zero', 'reduce_n5_p4': 'zero', 'normal_n2_switch': [1, 0], 'normal_n3_switch': [2, 1], 'normal_n4_switch': [3, 2], 'normal_n5_switch': [2, 3], 'reduce_n2_switch': [1, 0], 'reduce_n3_switch': [2, 1], 'reduce_n4_switch': [3, 2], 'reduce_n5_switch': [4, 3]}\u001b[0m\n",
      "zero path\n",
      "[2022-07-02 00:04:06] \u001b[32mFixed architecture: {'normal_n2_p0': 'zero', 'normal_n2_p1': 'zero', 'normal_n3_p0': 'zero', 'normal_n3_p1': 'zero', 'normal_n3_p2': 'zero', 'normal_n4_p0': 'zero', 'normal_n4_p1': 'zero', 'normal_n4_p2': 'zero', 'normal_n4_p3': 'zero', 'normal_n5_p0': 'zero', 'normal_n5_p1': 'zero', 'normal_n5_p2': 'zero', 'normal_n5_p3': 'zero', 'normal_n5_p4': 'zero', 'reduce_n2_p0': 'zero', 'reduce_n2_p1': 'zero', 'reduce_n3_p0': 'zero', 'reduce_n3_p1': 'zero', 'reduce_n3_p2': 'zero', 'reduce_n4_p0': 'zero', 'reduce_n4_p1': 'zero', 'reduce_n4_p2': 'zero', 'reduce_n4_p3': 'zero', 'reduce_n5_p0': 'zero', 'reduce_n5_p1': 'zero', 'reduce_n5_p2': 'zero', 'reduce_n5_p3': 'zero', 'reduce_n5_p4': 'zero', 'normal_n2_switch': [1, 0], 'normal_n3_switch': [2, 1], 'normal_n4_switch': [3, 2], 'normal_n5_switch': [2, 3], 'reduce_n2_switch': [1, 0], 'reduce_n3_switch': [2, 1], 'reduce_n4_switch': [3, 2], 'reduce_n5_switch': [4, 3]}\u001b[0m\n"
     ]
    },
    {
     "name": "stdout",
     "output_type": "stream",
     "text": [
      "zero path\n",
      "[2022-07-02 00:04:07] \u001b[32mFixed architecture: {'normal_n2_p0': 'zero', 'normal_n2_p1': 'zero', 'normal_n3_p0': 'zero', 'normal_n3_p1': 'zero', 'normal_n3_p2': 'zero', 'normal_n4_p0': 'zero', 'normal_n4_p1': 'zero', 'normal_n4_p2': 'zero', 'normal_n4_p3': 'zero', 'normal_n5_p0': 'zero', 'normal_n5_p1': 'zero', 'normal_n5_p2': 'zero', 'normal_n5_p3': 'zero', 'normal_n5_p4': 'zero', 'reduce_n2_p0': 'zero', 'reduce_n2_p1': 'zero', 'reduce_n3_p0': 'zero', 'reduce_n3_p1': 'zero', 'reduce_n3_p2': 'zero', 'reduce_n4_p0': 'zero', 'reduce_n4_p1': 'zero', 'reduce_n4_p2': 'zero', 'reduce_n4_p3': 'zero', 'reduce_n5_p0': 'zero', 'reduce_n5_p1': 'zero', 'reduce_n5_p2': 'zero', 'reduce_n5_p3': 'zero', 'reduce_n5_p4': 'zero', 'normal_n2_switch': [1, 0], 'normal_n3_switch': [2, 1], 'normal_n4_switch': [3, 2], 'normal_n5_switch': [2, 3], 'reduce_n2_switch': [1, 0], 'reduce_n3_switch': [2, 1], 'reduce_n4_switch': [3, 2], 'reduce_n5_switch': [4, 3]}\u001b[0m\n",
      "zero path\n",
      "[2022-07-02 00:04:07] \u001b[32mFixed architecture: {'normal_n2_p0': 'zero', 'normal_n2_p1': 'zero', 'normal_n3_p0': 'zero', 'normal_n3_p1': 'zero', 'normal_n3_p2': 'zero', 'normal_n4_p0': 'zero', 'normal_n4_p1': 'zero', 'normal_n4_p2': 'zero', 'normal_n4_p3': 'zero', 'normal_n5_p0': 'zero', 'normal_n5_p1': 'zero', 'normal_n5_p2': 'zero', 'normal_n5_p3': 'zero', 'normal_n5_p4': 'zero', 'reduce_n2_p0': 'zero', 'reduce_n2_p1': 'zero', 'reduce_n3_p0': 'zero', 'reduce_n3_p1': 'zero', 'reduce_n3_p2': 'zero', 'reduce_n4_p0': 'zero', 'reduce_n4_p1': 'zero', 'reduce_n4_p2': 'zero', 'reduce_n4_p3': 'zero', 'reduce_n5_p0': 'zero', 'reduce_n5_p1': 'zero', 'reduce_n5_p2': 'zero', 'reduce_n5_p3': 'zero', 'reduce_n5_p4': 'zero', 'normal_n2_switch': [1, 0], 'normal_n3_switch': [2, 1], 'normal_n4_switch': [3, 2], 'normal_n5_switch': [2, 3], 'reduce_n2_switch': [1, 0], 'reduce_n3_switch': [2, 1], 'reduce_n4_switch': [3, 2], 'reduce_n5_switch': [4, 3]}\u001b[0m\n",
      "zero path\n",
      "[2022-07-02 00:04:07] \u001b[32mFixed architecture: {'normal_n2_p0': 'zero', 'normal_n2_p1': 'zero', 'normal_n3_p0': 'zero', 'normal_n3_p1': 'zero', 'normal_n3_p2': 'zero', 'normal_n4_p0': 'zero', 'normal_n4_p1': 'zero', 'normal_n4_p2': 'zero', 'normal_n4_p3': 'zero', 'normal_n5_p0': 'zero', 'normal_n5_p1': 'zero', 'normal_n5_p2': 'zero', 'normal_n5_p3': 'zero', 'normal_n5_p4': 'zero', 'reduce_n2_p0': 'zero', 'reduce_n2_p1': 'zero', 'reduce_n3_p0': 'zero', 'reduce_n3_p1': 'zero', 'reduce_n3_p2': 'zero', 'reduce_n4_p0': 'zero', 'reduce_n4_p1': 'zero', 'reduce_n4_p2': 'zero', 'reduce_n4_p3': 'zero', 'reduce_n5_p0': 'zero', 'reduce_n5_p1': 'zero', 'reduce_n5_p2': 'zero', 'reduce_n5_p3': 'zero', 'reduce_n5_p4': 'zero', 'normal_n2_switch': [1, 0], 'normal_n3_switch': [2, 1], 'normal_n4_switch': [3, 2], 'normal_n5_switch': [2, 3], 'reduce_n2_switch': [1, 0], 'reduce_n3_switch': [2, 1], 'reduce_n4_switch': [3, 2], 'reduce_n5_switch': [4, 3]}\u001b[0m\n",
      "zero path\n",
      "[2022-07-02 00:04:07] \u001b[32mFixed architecture: {'normal_n2_p0': 'zero', 'normal_n2_p1': 'zero', 'normal_n3_p0': 'zero', 'normal_n3_p1': 'zero', 'normal_n3_p2': 'zero', 'normal_n4_p0': 'zero', 'normal_n4_p1': 'zero', 'normal_n4_p2': 'zero', 'normal_n4_p3': 'zero', 'normal_n5_p0': 'zero', 'normal_n5_p1': 'zero', 'normal_n5_p2': 'zero', 'normal_n5_p3': 'zero', 'normal_n5_p4': 'zero', 'reduce_n2_p0': 'zero', 'reduce_n2_p1': 'zero', 'reduce_n3_p0': 'zero', 'reduce_n3_p1': 'zero', 'reduce_n3_p2': 'zero', 'reduce_n4_p0': 'zero', 'reduce_n4_p1': 'zero', 'reduce_n4_p2': 'zero', 'reduce_n4_p3': 'zero', 'reduce_n5_p0': 'zero', 'reduce_n5_p1': 'zero', 'reduce_n5_p2': 'zero', 'reduce_n5_p3': 'zero', 'reduce_n5_p4': 'zero', 'normal_n2_switch': [1, 0], 'normal_n3_switch': [2, 1], 'normal_n4_switch': [3, 2], 'normal_n5_switch': [2, 3], 'reduce_n2_switch': [1, 0], 'reduce_n3_switch': [2, 1], 'reduce_n4_switch': [3, 2], 'reduce_n5_switch': [4, 3]}\u001b[0m\n",
      "zero path\n",
      "[2022-07-02 00:04:07] \u001b[32mFixed architecture: {'normal_n2_p0': 'zero', 'normal_n2_p1': 'zero', 'normal_n3_p0': 'zero', 'normal_n3_p1': 'zero', 'normal_n3_p2': 'zero', 'normal_n4_p0': 'zero', 'normal_n4_p1': 'zero', 'normal_n4_p2': 'zero', 'normal_n4_p3': 'zero', 'normal_n5_p0': 'zero', 'normal_n5_p1': 'zero', 'normal_n5_p2': 'zero', 'normal_n5_p3': 'zero', 'normal_n5_p4': 'zero', 'reduce_n2_p0': 'zero', 'reduce_n2_p1': 'zero', 'reduce_n3_p0': 'zero', 'reduce_n3_p1': 'zero', 'reduce_n3_p2': 'zero', 'reduce_n4_p0': 'zero', 'reduce_n4_p1': 'zero', 'reduce_n4_p2': 'zero', 'reduce_n4_p3': 'zero', 'reduce_n5_p0': 'zero', 'reduce_n5_p1': 'zero', 'reduce_n5_p2': 'zero', 'reduce_n5_p3': 'zero', 'reduce_n5_p4': 'zero', 'normal_n2_switch': [1, 0], 'normal_n3_switch': [2, 1], 'normal_n4_switch': [3, 2], 'normal_n5_switch': [2, 3], 'reduce_n2_switch': [1, 0], 'reduce_n3_switch': [2, 1], 'reduce_n4_switch': [3, 2], 'reduce_n5_switch': [4, 3]}\u001b[0m\n",
      "zero path\n",
      "[2022-07-02 00:04:07] \u001b[32mFixed architecture: {'normal_n2_p0': 'zero', 'normal_n2_p1': 'zero', 'normal_n3_p0': 'zero', 'normal_n3_p1': 'zero', 'normal_n3_p2': 'zero', 'normal_n4_p0': 'zero', 'normal_n4_p1': 'zero', 'normal_n4_p2': 'zero', 'normal_n4_p3': 'zero', 'normal_n5_p0': 'zero', 'normal_n5_p1': 'zero', 'normal_n5_p2': 'zero', 'normal_n5_p3': 'zero', 'normal_n5_p4': 'zero', 'reduce_n2_p0': 'zero', 'reduce_n2_p1': 'zero', 'reduce_n3_p0': 'zero', 'reduce_n3_p1': 'zero', 'reduce_n3_p2': 'zero', 'reduce_n4_p0': 'zero', 'reduce_n4_p1': 'zero', 'reduce_n4_p2': 'zero', 'reduce_n4_p3': 'zero', 'reduce_n5_p0': 'zero', 'reduce_n5_p1': 'zero', 'reduce_n5_p2': 'zero', 'reduce_n5_p3': 'zero', 'reduce_n5_p4': 'zero', 'normal_n2_switch': [1, 0], 'normal_n3_switch': [2, 1], 'normal_n4_switch': [3, 2], 'normal_n5_switch': [2, 3], 'reduce_n2_switch': [1, 0], 'reduce_n3_switch': [2, 1], 'reduce_n4_switch': [3, 2], 'reduce_n5_switch': [4, 3]}\u001b[0m\n",
      "zero path\n",
      "[2022-07-02 00:04:07] \u001b[32mFixed architecture: {'normal_n2_p0': 'zero', 'normal_n2_p1': 'zero', 'normal_n3_p0': 'zero', 'normal_n3_p1': 'zero', 'normal_n3_p2': 'zero', 'normal_n4_p0': 'zero', 'normal_n4_p1': 'zero', 'normal_n4_p2': 'zero', 'normal_n4_p3': 'zero', 'normal_n5_p0': 'zero', 'normal_n5_p1': 'zero', 'normal_n5_p2': 'zero', 'normal_n5_p3': 'zero', 'normal_n5_p4': 'zero', 'reduce_n2_p0': 'zero', 'reduce_n2_p1': 'zero', 'reduce_n3_p0': 'zero', 'reduce_n3_p1': 'zero', 'reduce_n3_p2': 'zero', 'reduce_n4_p0': 'zero', 'reduce_n4_p1': 'zero', 'reduce_n4_p2': 'zero', 'reduce_n4_p3': 'zero', 'reduce_n5_p0': 'zero', 'reduce_n5_p1': 'zero', 'reduce_n5_p2': 'zero', 'reduce_n5_p3': 'zero', 'reduce_n5_p4': 'zero', 'normal_n2_switch': [1, 0], 'normal_n3_switch': [2, 1], 'normal_n4_switch': [3, 2], 'normal_n5_switch': [2, 3], 'reduce_n2_switch': [1, 0], 'reduce_n3_switch': [2, 1], 'reduce_n4_switch': [3, 2], 'reduce_n5_switch': [4, 3]}\u001b[0m\n",
      "zero path\n",
      "[2022-07-02 00:04:07] \u001b[32mFixed architecture: {'normal_n2_p0': 'zero', 'normal_n2_p1': 'zero', 'normal_n3_p0': 'zero', 'normal_n3_p1': 'zero', 'normal_n3_p2': 'zero', 'normal_n4_p0': 'zero', 'normal_n4_p1': 'zero', 'normal_n4_p2': 'zero', 'normal_n4_p3': 'zero', 'normal_n5_p0': 'zero', 'normal_n5_p1': 'zero', 'normal_n5_p2': 'zero', 'normal_n5_p3': 'zero', 'normal_n5_p4': 'zero', 'reduce_n2_p0': 'zero', 'reduce_n2_p1': 'zero', 'reduce_n3_p0': 'zero', 'reduce_n3_p1': 'zero', 'reduce_n3_p2': 'zero', 'reduce_n4_p0': 'zero', 'reduce_n4_p1': 'zero', 'reduce_n4_p2': 'zero', 'reduce_n4_p3': 'zero', 'reduce_n5_p0': 'zero', 'reduce_n5_p1': 'zero', 'reduce_n5_p2': 'zero', 'reduce_n5_p3': 'zero', 'reduce_n5_p4': 'zero', 'normal_n2_switch': [1, 0], 'normal_n3_switch': [2, 1], 'normal_n4_switch': [3, 2], 'normal_n5_switch': [2, 3], 'reduce_n2_switch': [1, 0], 'reduce_n3_switch': [2, 1], 'reduce_n4_switch': [3, 2], 'reduce_n5_switch': [4, 3]}\u001b[0m\n",
      "zero path\n",
      "[2022-07-02 00:04:08] \u001b[32mFixed architecture: {'normal_n2_p0': 'zero', 'normal_n2_p1': 'zero', 'normal_n3_p0': 'zero', 'normal_n3_p1': 'zero', 'normal_n3_p2': 'zero', 'normal_n4_p0': 'zero', 'normal_n4_p1': 'zero', 'normal_n4_p2': 'zero', 'normal_n4_p3': 'zero', 'normal_n5_p0': 'zero', 'normal_n5_p1': 'zero', 'normal_n5_p2': 'zero', 'normal_n5_p3': 'zero', 'normal_n5_p4': 'zero', 'reduce_n2_p0': 'zero', 'reduce_n2_p1': 'zero', 'reduce_n3_p0': 'zero', 'reduce_n3_p1': 'zero', 'reduce_n3_p2': 'zero', 'reduce_n4_p0': 'zero', 'reduce_n4_p1': 'zero', 'reduce_n4_p2': 'zero', 'reduce_n4_p3': 'zero', 'reduce_n5_p0': 'zero', 'reduce_n5_p1': 'zero', 'reduce_n5_p2': 'zero', 'reduce_n5_p3': 'zero', 'reduce_n5_p4': 'zero', 'normal_n2_switch': [1, 0], 'normal_n3_switch': [2, 1], 'normal_n4_switch': [3, 2], 'normal_n5_switch': [2, 3], 'reduce_n2_switch': [1, 0], 'reduce_n3_switch': [2, 1], 'reduce_n4_switch': [3, 2], 'reduce_n5_switch': [4, 3]}\u001b[0m\n"
     ]
    },
    {
     "name": "stdout",
     "output_type": "stream",
     "text": [
      "zero path\n",
      "[2022-07-02 00:04:08] \u001b[32mFixed architecture: {'normal_n2_p0': 'zero', 'normal_n2_p1': 'zero', 'normal_n3_p0': 'zero', 'normal_n3_p1': 'zero', 'normal_n3_p2': 'zero', 'normal_n4_p0': 'zero', 'normal_n4_p1': 'zero', 'normal_n4_p2': 'zero', 'normal_n4_p3': 'zero', 'normal_n5_p0': 'zero', 'normal_n5_p1': 'zero', 'normal_n5_p2': 'zero', 'normal_n5_p3': 'zero', 'normal_n5_p4': 'zero', 'reduce_n2_p0': 'zero', 'reduce_n2_p1': 'zero', 'reduce_n3_p0': 'zero', 'reduce_n3_p1': 'zero', 'reduce_n3_p2': 'zero', 'reduce_n4_p0': 'zero', 'reduce_n4_p1': 'zero', 'reduce_n4_p2': 'zero', 'reduce_n4_p3': 'zero', 'reduce_n5_p0': 'zero', 'reduce_n5_p1': 'zero', 'reduce_n5_p2': 'zero', 'reduce_n5_p3': 'zero', 'reduce_n5_p4': 'zero', 'normal_n2_switch': [1, 0], 'normal_n3_switch': [2, 1], 'normal_n4_switch': [3, 2], 'normal_n5_switch': [2, 3], 'reduce_n2_switch': [1, 0], 'reduce_n3_switch': [2, 1], 'reduce_n4_switch': [3, 2], 'reduce_n5_switch': [4, 3]}\u001b[0m\n",
      "zero path\n",
      "[2022-07-02 00:04:08] \u001b[32mFixed architecture: {'normal_n2_p0': 'zero', 'normal_n2_p1': 'zero', 'normal_n3_p0': 'zero', 'normal_n3_p1': 'zero', 'normal_n3_p2': 'zero', 'normal_n4_p0': 'zero', 'normal_n4_p1': 'zero', 'normal_n4_p2': 'zero', 'normal_n4_p3': 'zero', 'normal_n5_p0': 'zero', 'normal_n5_p1': 'zero', 'normal_n5_p2': 'zero', 'normal_n5_p3': 'zero', 'normal_n5_p4': 'zero', 'reduce_n2_p0': 'zero', 'reduce_n2_p1': 'zero', 'reduce_n3_p0': 'zero', 'reduce_n3_p1': 'zero', 'reduce_n3_p2': 'zero', 'reduce_n4_p0': 'zero', 'reduce_n4_p1': 'zero', 'reduce_n4_p2': 'zero', 'reduce_n4_p3': 'zero', 'reduce_n5_p0': 'zero', 'reduce_n5_p1': 'zero', 'reduce_n5_p2': 'zero', 'reduce_n5_p3': 'zero', 'reduce_n5_p4': 'zero', 'normal_n2_switch': [1, 0], 'normal_n3_switch': [2, 1], 'normal_n4_switch': [3, 2], 'normal_n5_switch': [2, 3], 'reduce_n2_switch': [1, 0], 'reduce_n3_switch': [2, 1], 'reduce_n4_switch': [3, 2], 'reduce_n5_switch': [4, 3]}\u001b[0m\n",
      "zero path\n",
      "[2022-07-02 00:04:08] \u001b[32mFixed architecture: {'normal_n2_p0': 'zero', 'normal_n2_p1': 'zero', 'normal_n3_p0': 'zero', 'normal_n3_p1': 'zero', 'normal_n3_p2': 'zero', 'normal_n4_p0': 'zero', 'normal_n4_p1': 'zero', 'normal_n4_p2': 'zero', 'normal_n4_p3': 'zero', 'normal_n5_p0': 'zero', 'normal_n5_p1': 'zero', 'normal_n5_p2': 'zero', 'normal_n5_p3': 'zero', 'normal_n5_p4': 'zero', 'reduce_n2_p0': 'zero', 'reduce_n2_p1': 'zero', 'reduce_n3_p0': 'zero', 'reduce_n3_p1': 'zero', 'reduce_n3_p2': 'zero', 'reduce_n4_p0': 'zero', 'reduce_n4_p1': 'zero', 'reduce_n4_p2': 'zero', 'reduce_n4_p3': 'zero', 'reduce_n5_p0': 'zero', 'reduce_n5_p1': 'zero', 'reduce_n5_p2': 'zero', 'reduce_n5_p3': 'zero', 'reduce_n5_p4': 'zero', 'normal_n2_switch': [1, 0], 'normal_n3_switch': [2, 1], 'normal_n4_switch': [3, 2], 'normal_n5_switch': [2, 3], 'reduce_n2_switch': [1, 0], 'reduce_n3_switch': [2, 1], 'reduce_n4_switch': [3, 2], 'reduce_n5_switch': [4, 3]}\u001b[0m\n"
     ]
    },
    {
     "ename": "KeyboardInterrupt",
     "evalue": "",
     "output_type": "error",
     "traceback": [
      "\u001b[0;31m---------------------------------------------------------------------------\u001b[0m",
      "\u001b[0;31mKeyboardInterrupt\u001b[0m                         Traceback (most recent call last)",
      "Input \u001b[0;32mIn [40]\u001b[0m, in \u001b[0;36m<module>\u001b[0;34m\u001b[0m\n\u001b[1;32m      9\u001b[0m     modified[k] \u001b[38;5;241m=\u001b[39m \u001b[38;5;124m'\u001b[39m\u001b[38;5;124mzero\u001b[39m\u001b[38;5;124m'\u001b[39m\n\u001b[1;32m     10\u001b[0m \u001b[38;5;28;01mwith\u001b[39;00m fixed_arch(modified):\n\u001b[0;32m---> 11\u001b[0m     cnn_model \u001b[38;5;241m=\u001b[39m \u001b[43mmodel\u001b[49m\u001b[38;5;241;43m.\u001b[39;49m\u001b[43mCNN\u001b[49m\u001b[43m(\u001b[49m\u001b[38;5;241;43m28\u001b[39;49m\u001b[43m,\u001b[49m\u001b[43m \u001b[49m\u001b[38;5;241;43m1\u001b[39;49m\u001b[43m,\u001b[49m\u001b[43m \u001b[49m\u001b[38;5;241;43m16\u001b[39;49m\u001b[43m,\u001b[49m\u001b[43m \u001b[49m\u001b[38;5;241;43m8\u001b[39;49m\u001b[43m,\u001b[49m\u001b[43m \u001b[49m\u001b[38;5;241;43m3\u001b[39;49m\u001b[43m,\u001b[49m\u001b[43m \u001b[49m\u001b[43mauxiliary\u001b[49m\u001b[38;5;241;43m=\u001b[39;49m\u001b[38;5;28;43;01mTrue\u001b[39;49;00m\u001b[43m)\u001b[49m\n\u001b[1;32m     12\u001b[0m out \u001b[38;5;241m=\u001b[39m cnn_model(x)\n\u001b[1;32m     13\u001b[0m \u001b[38;5;28;01mif\u001b[39;00m \u001b[38;5;28mabs\u001b[39m(out[\u001b[38;5;241m0\u001b[39m][\u001b[38;5;241m1\u001b[39m] \u001b[38;5;241m-\u001b[39m out[\u001b[38;5;241m0\u001b[39m][\u001b[38;5;241m0\u001b[39m])\u001b[38;5;241m.\u001b[39msum()\u001b[38;5;241m>\u001b[39m\u001b[38;5;241m1e-3\u001b[39m:\n",
      "File \u001b[0;32m~/reps/fast_nas_adapt/prelim_fmnist/./model_construction/model.py:152\u001b[0m, in \u001b[0;36mCNN.__init__\u001b[0;34m(self, input_size, in_channels, channels, n_classes, n_layers, n_nodes, stem_multiplier, auxiliary)\u001b[0m\n\u001b[1;32m    149\u001b[0m     c_cur \u001b[38;5;241m*\u001b[39m\u001b[38;5;241m=\u001b[39m \u001b[38;5;241m2\u001b[39m\n\u001b[1;32m    150\u001b[0m     reduction \u001b[38;5;241m=\u001b[39m \u001b[38;5;28;01mTrue\u001b[39;00m\n\u001b[0;32m--> 152\u001b[0m cell \u001b[38;5;241m=\u001b[39m \u001b[43mCell\u001b[49m\u001b[43m(\u001b[49m\u001b[43mn_nodes\u001b[49m\u001b[43m,\u001b[49m\u001b[43m \u001b[49m\u001b[43mchannels_pp\u001b[49m\u001b[43m,\u001b[49m\u001b[43m \u001b[49m\u001b[43mchannels_p\u001b[49m\u001b[43m,\u001b[49m\u001b[43m \u001b[49m\u001b[43mc_cur\u001b[49m\u001b[43m,\u001b[49m\u001b[43m \u001b[49m\u001b[43mreduction_p\u001b[49m\u001b[43m,\u001b[49m\u001b[43m \u001b[49m\u001b[43mreduction\u001b[49m\u001b[43m)\u001b[49m\n\u001b[1;32m    153\u001b[0m \u001b[38;5;28mself\u001b[39m\u001b[38;5;241m.\u001b[39mcells\u001b[38;5;241m.\u001b[39mappend(cell)\n\u001b[1;32m    154\u001b[0m c_cur_out \u001b[38;5;241m=\u001b[39m c_cur \u001b[38;5;241m*\u001b[39m n_nodes\n",
      "File \u001b[0;32m~/reps/fast_nas_adapt/prelim_fmnist/./model_construction/model.py:108\u001b[0m, in \u001b[0;36mCell.__init__\u001b[0;34m(self, n_nodes, channels_pp, channels_p, channels, reduction_p, reduction)\u001b[0m\n\u001b[1;32m    106\u001b[0m \u001b[38;5;28mself\u001b[39m\u001b[38;5;241m.\u001b[39mmutable_ops \u001b[38;5;241m=\u001b[39m nn\u001b[38;5;241m.\u001b[39mModuleList()\n\u001b[1;32m    107\u001b[0m \u001b[38;5;28;01mfor\u001b[39;00m depth \u001b[38;5;129;01min\u001b[39;00m \u001b[38;5;28mrange\u001b[39m(\u001b[38;5;241m2\u001b[39m, \u001b[38;5;28mself\u001b[39m\u001b[38;5;241m.\u001b[39mn_nodes \u001b[38;5;241m+\u001b[39m \u001b[38;5;241m2\u001b[39m):\n\u001b[0;32m--> 108\u001b[0m     \u001b[38;5;28mself\u001b[39m\u001b[38;5;241m.\u001b[39mmutable_ops\u001b[38;5;241m.\u001b[39mappend(\u001b[43mNode\u001b[49m\u001b[43m(\u001b[49m\u001b[38;5;124;43m\"\u001b[39;49m\u001b[38;5;132;43;01m{}\u001b[39;49;00m\u001b[38;5;124;43m_n\u001b[39;49m\u001b[38;5;132;43;01m{}\u001b[39;49;00m\u001b[38;5;124;43m\"\u001b[39;49m\u001b[38;5;241;43m.\u001b[39;49m\u001b[43mformat\u001b[49m\u001b[43m(\u001b[49m\u001b[38;5;124;43m\"\u001b[39;49m\u001b[38;5;124;43mreduce\u001b[39;49m\u001b[38;5;124;43m\"\u001b[39;49m\u001b[43m \u001b[49m\u001b[38;5;28;43;01mif\u001b[39;49;00m\u001b[43m \u001b[49m\u001b[43mreduction\u001b[49m\u001b[43m \u001b[49m\u001b[38;5;28;43;01melse\u001b[39;49;00m\u001b[43m \u001b[49m\u001b[38;5;124;43m\"\u001b[39;49m\u001b[38;5;124;43mnormal\u001b[39;49m\u001b[38;5;124;43m\"\u001b[39;49m\u001b[43m,\u001b[49m\u001b[43m \u001b[49m\u001b[43mdepth\u001b[49m\u001b[43m)\u001b[49m\u001b[43m,\u001b[49m\n\u001b[1;32m    109\u001b[0m \u001b[43m                                 \u001b[49m\u001b[43mdepth\u001b[49m\u001b[43m,\u001b[49m\u001b[43m \u001b[49m\u001b[43mchannels\u001b[49m\u001b[43m,\u001b[49m\u001b[43m \u001b[49m\u001b[38;5;241;43m2\u001b[39;49m\u001b[43m \u001b[49m\u001b[38;5;28;43;01mif\u001b[39;49;00m\u001b[43m \u001b[49m\u001b[43mreduction\u001b[49m\u001b[43m \u001b[49m\u001b[38;5;28;43;01melse\u001b[39;49;00m\u001b[43m \u001b[49m\u001b[38;5;241;43m0\u001b[39;49m\u001b[43m)\u001b[49m)\n",
      "File \u001b[0;32m~/reps/fast_nas_adapt/prelim_fmnist/./model_construction/model.py:64\u001b[0m, in \u001b[0;36mNode.__init__\u001b[0;34m(self, node_id, num_prev_nodes, channels, num_downsample_connect)\u001b[0m\n\u001b[1;32m     54\u001b[0m choice_keys\u001b[38;5;241m.\u001b[39mappend(\u001b[38;5;124m\"\u001b[39m\u001b[38;5;132;01m{}\u001b[39;00m\u001b[38;5;124m_p\u001b[39m\u001b[38;5;132;01m{}\u001b[39;00m\u001b[38;5;124m\"\u001b[39m\u001b[38;5;241m.\u001b[39mformat(node_id, i))\n\u001b[1;32m     55\u001b[0m \u001b[38;5;28;01mif\u001b[39;00m add_pruning:\n\u001b[1;32m     57\u001b[0m     \u001b[38;5;28mself\u001b[39m\u001b[38;5;241m.\u001b[39mops\u001b[38;5;241m.\u001b[39mappend(\n\u001b[1;32m     58\u001b[0m         LayerChoice(OrderedDict([\n\u001b[1;32m     59\u001b[0m             (\u001b[38;5;124m\"\u001b[39m\u001b[38;5;124mmaxpool\u001b[39m\u001b[38;5;124m\"\u001b[39m, ops\u001b[38;5;241m.\u001b[39mPoolBN(\u001b[38;5;124m'\u001b[39m\u001b[38;5;124mmax\u001b[39m\u001b[38;5;124m'\u001b[39m, channels, \u001b[38;5;241m3\u001b[39m, stride, \u001b[38;5;241m1\u001b[39m, affine\u001b[38;5;241m=\u001b[39m\u001b[38;5;28;01mFalse\u001b[39;00m)),\n\u001b[1;32m     60\u001b[0m             (\u001b[38;5;124m\"\u001b[39m\u001b[38;5;124mavgpool\u001b[39m\u001b[38;5;124m\"\u001b[39m, ops\u001b[38;5;241m.\u001b[39mPoolBN(\u001b[38;5;124m'\u001b[39m\u001b[38;5;124mavg\u001b[39m\u001b[38;5;124m'\u001b[39m, channels, \u001b[38;5;241m3\u001b[39m, stride, \u001b[38;5;241m1\u001b[39m, affine\u001b[38;5;241m=\u001b[39m\u001b[38;5;28;01mFalse\u001b[39;00m)),\n\u001b[1;32m     61\u001b[0m             (\u001b[38;5;124m\"\u001b[39m\u001b[38;5;124mskipconnect\u001b[39m\u001b[38;5;124m\"\u001b[39m, nn\u001b[38;5;241m.\u001b[39mIdentity() \u001b[38;5;28;01mif\u001b[39;00m stride \u001b[38;5;241m==\u001b[39m \u001b[38;5;241m1\u001b[39m \u001b[38;5;28;01melse\u001b[39;00m ops\u001b[38;5;241m.\u001b[39mFactorizedReduce(channels, channels, affine\u001b[38;5;241m=\u001b[39m\u001b[38;5;28;01mFalse\u001b[39;00m)),\n\u001b[1;32m     62\u001b[0m             (\u001b[38;5;124m\"\u001b[39m\u001b[38;5;124msepconv3x3\u001b[39m\u001b[38;5;124m\"\u001b[39m, ops\u001b[38;5;241m.\u001b[39mSepConv(channels, channels, \u001b[38;5;241m3\u001b[39m, stride, \u001b[38;5;241m1\u001b[39m, affine\u001b[38;5;241m=\u001b[39m\u001b[38;5;28;01mFalse\u001b[39;00m)),\n\u001b[1;32m     63\u001b[0m             (\u001b[38;5;124m\"\u001b[39m\u001b[38;5;124msepconv5x5\u001b[39m\u001b[38;5;124m\"\u001b[39m, ops\u001b[38;5;241m.\u001b[39mSepConv(channels, channels, \u001b[38;5;241m5\u001b[39m, stride, \u001b[38;5;241m2\u001b[39m, affine\u001b[38;5;241m=\u001b[39m\u001b[38;5;28;01mFalse\u001b[39;00m)),\n\u001b[0;32m---> 64\u001b[0m             (\u001b[38;5;124m\"\u001b[39m\u001b[38;5;124mdilconv3x3\u001b[39m\u001b[38;5;124m\"\u001b[39m, \u001b[43mops\u001b[49m\u001b[38;5;241;43m.\u001b[39;49m\u001b[43mDilConv\u001b[49m\u001b[43m(\u001b[49m\u001b[43mchannels\u001b[49m\u001b[43m,\u001b[49m\u001b[43m \u001b[49m\u001b[43mchannels\u001b[49m\u001b[43m,\u001b[49m\u001b[43m \u001b[49m\u001b[38;5;241;43m3\u001b[39;49m\u001b[43m,\u001b[49m\u001b[43m \u001b[49m\u001b[43mstride\u001b[49m\u001b[43m,\u001b[49m\u001b[43m \u001b[49m\u001b[38;5;241;43m2\u001b[39;49m\u001b[43m,\u001b[49m\u001b[43m \u001b[49m\u001b[38;5;241;43m2\u001b[39;49m\u001b[43m,\u001b[49m\u001b[43m \u001b[49m\u001b[43maffine\u001b[49m\u001b[38;5;241;43m=\u001b[39;49m\u001b[38;5;28;43;01mFalse\u001b[39;49;00m\u001b[43m)\u001b[49m),\n\u001b[1;32m     65\u001b[0m             (\u001b[38;5;124m\"\u001b[39m\u001b[38;5;124mdilconv5x5\u001b[39m\u001b[38;5;124m\"\u001b[39m, ops\u001b[38;5;241m.\u001b[39mDilConv(channels, channels, \u001b[38;5;241m5\u001b[39m, stride, \u001b[38;5;241m4\u001b[39m, \u001b[38;5;241m2\u001b[39m, affine\u001b[38;5;241m=\u001b[39m\u001b[38;5;28;01mFalse\u001b[39;00m)),\n\u001b[1;32m     66\u001b[0m             (\u001b[38;5;124m\"\u001b[39m\u001b[38;5;124mzero\u001b[39m\u001b[38;5;124m\"\u001b[39m,  ZeroOp(stride, channels))\n\u001b[1;32m     67\u001b[0m         ]), label\u001b[38;5;241m=\u001b[39mchoice_keys[\u001b[38;5;241m-\u001b[39m\u001b[38;5;241m1\u001b[39m]))\n\u001b[1;32m     68\u001b[0m \u001b[38;5;28;01melse\u001b[39;00m:\n\u001b[1;32m     69\u001b[0m     \u001b[38;5;28mself\u001b[39m\u001b[38;5;241m.\u001b[39mops\u001b[38;5;241m.\u001b[39mappend(\n\u001b[1;32m     70\u001b[0m         LayerChoice(OrderedDict([\n\u001b[1;32m     71\u001b[0m             (\u001b[38;5;124m\"\u001b[39m\u001b[38;5;124mmaxpool\u001b[39m\u001b[38;5;124m\"\u001b[39m, ops\u001b[38;5;241m.\u001b[39mPoolBN(\u001b[38;5;124m'\u001b[39m\u001b[38;5;124mmax\u001b[39m\u001b[38;5;124m'\u001b[39m, channels, \u001b[38;5;241m3\u001b[39m, stride, \u001b[38;5;241m1\u001b[39m, affine\u001b[38;5;241m=\u001b[39m\u001b[38;5;28;01mFalse\u001b[39;00m)),\n\u001b[0;32m   (...)\u001b[0m\n\u001b[1;32m     77\u001b[0m             (\u001b[38;5;124m\"\u001b[39m\u001b[38;5;124mdilconv5x5\u001b[39m\u001b[38;5;124m\"\u001b[39m, ops\u001b[38;5;241m.\u001b[39mDilConv(channels, channels, \u001b[38;5;241m5\u001b[39m, stride, \u001b[38;5;241m4\u001b[39m, \u001b[38;5;241m2\u001b[39m, affine\u001b[38;5;241m=\u001b[39m\u001b[38;5;28;01mFalse\u001b[39;00m)),\n\u001b[1;32m     78\u001b[0m         ]), label\u001b[38;5;241m=\u001b[39mchoice_keys[\u001b[38;5;241m-\u001b[39m\u001b[38;5;241m1\u001b[39m]))\n",
      "File \u001b[0;32m~/reps/fast_nas_adapt/prelim_fmnist/./model_construction/ops.py:97\u001b[0m, in \u001b[0;36mDilConv.__init__\u001b[0;34m(self, C_in, C_out, kernel_size, stride, padding, dilation, affine)\u001b[0m\n\u001b[1;32m     91\u001b[0m \u001b[38;5;28;01mdef\u001b[39;00m \u001b[38;5;21m__init__\u001b[39m(\u001b[38;5;28mself\u001b[39m, C_in, C_out, kernel_size, stride, padding, dilation, affine\u001b[38;5;241m=\u001b[39m\u001b[38;5;28;01mTrue\u001b[39;00m):\n\u001b[1;32m     92\u001b[0m     \u001b[38;5;28msuper\u001b[39m()\u001b[38;5;241m.\u001b[39m\u001b[38;5;21m__init__\u001b[39m()\n\u001b[1;32m     93\u001b[0m     \u001b[38;5;28mself\u001b[39m\u001b[38;5;241m.\u001b[39mnet \u001b[38;5;241m=\u001b[39m nn\u001b[38;5;241m.\u001b[39mSequential(\n\u001b[1;32m     94\u001b[0m         nn\u001b[38;5;241m.\u001b[39mReLU(),\n\u001b[1;32m     95\u001b[0m         nn\u001b[38;5;241m.\u001b[39mConv2d(C_in, C_in, kernel_size, stride, padding, dilation\u001b[38;5;241m=\u001b[39mdilation, groups\u001b[38;5;241m=\u001b[39mC_in,\n\u001b[1;32m     96\u001b[0m                   bias\u001b[38;5;241m=\u001b[39m\u001b[38;5;28;01mFalse\u001b[39;00m),\n\u001b[0;32m---> 97\u001b[0m         \u001b[43mnn\u001b[49m\u001b[38;5;241;43m.\u001b[39;49m\u001b[43mConv2d\u001b[49m\u001b[43m(\u001b[49m\u001b[43mC_in\u001b[49m\u001b[43m,\u001b[49m\u001b[43m \u001b[49m\u001b[43mC_out\u001b[49m\u001b[43m,\u001b[49m\u001b[43m \u001b[49m\u001b[38;5;241;43m1\u001b[39;49m\u001b[43m,\u001b[49m\u001b[43m \u001b[49m\u001b[43mstride\u001b[49m\u001b[38;5;241;43m=\u001b[39;49m\u001b[38;5;241;43m1\u001b[39;49m\u001b[43m,\u001b[49m\u001b[43m \u001b[49m\u001b[43mpadding\u001b[49m\u001b[38;5;241;43m=\u001b[39;49m\u001b[38;5;241;43m0\u001b[39;49m\u001b[43m,\u001b[49m\u001b[43m \u001b[49m\u001b[43mbias\u001b[49m\u001b[38;5;241;43m=\u001b[39;49m\u001b[38;5;28;43;01mFalse\u001b[39;49;00m\u001b[43m)\u001b[49m,\n\u001b[1;32m     98\u001b[0m         nn\u001b[38;5;241m.\u001b[39mBatchNorm2d(C_out, affine\u001b[38;5;241m=\u001b[39maffine)\n\u001b[1;32m     99\u001b[0m     )\n",
      "File \u001b[0;32m/usr/local/lib/python3.8/dist-packages/torch/nn/modules/conv.py:433\u001b[0m, in \u001b[0;36mConv2d.__init__\u001b[0;34m(self, in_channels, out_channels, kernel_size, stride, padding, dilation, groups, bias, padding_mode, device, dtype)\u001b[0m\n\u001b[1;32m    431\u001b[0m padding_ \u001b[38;5;241m=\u001b[39m padding \u001b[38;5;28;01mif\u001b[39;00m \u001b[38;5;28misinstance\u001b[39m(padding, \u001b[38;5;28mstr\u001b[39m) \u001b[38;5;28;01melse\u001b[39;00m _pair(padding)\n\u001b[1;32m    432\u001b[0m dilation_ \u001b[38;5;241m=\u001b[39m _pair(dilation)\n\u001b[0;32m--> 433\u001b[0m \u001b[38;5;28;43msuper\u001b[39;49m\u001b[43m(\u001b[49m\u001b[43mConv2d\u001b[49m\u001b[43m,\u001b[49m\u001b[43m \u001b[49m\u001b[38;5;28;43mself\u001b[39;49m\u001b[43m)\u001b[49m\u001b[38;5;241;43m.\u001b[39;49m\u001b[38;5;21;43m__init__\u001b[39;49m\u001b[43m(\u001b[49m\n\u001b[1;32m    434\u001b[0m \u001b[43m    \u001b[49m\u001b[43min_channels\u001b[49m\u001b[43m,\u001b[49m\u001b[43m \u001b[49m\u001b[43mout_channels\u001b[49m\u001b[43m,\u001b[49m\u001b[43m \u001b[49m\u001b[43mkernel_size_\u001b[49m\u001b[43m,\u001b[49m\u001b[43m \u001b[49m\u001b[43mstride_\u001b[49m\u001b[43m,\u001b[49m\u001b[43m \u001b[49m\u001b[43mpadding_\u001b[49m\u001b[43m,\u001b[49m\u001b[43m \u001b[49m\u001b[43mdilation_\u001b[49m\u001b[43m,\u001b[49m\n\u001b[1;32m    435\u001b[0m \u001b[43m    \u001b[49m\u001b[38;5;28;43;01mFalse\u001b[39;49;00m\u001b[43m,\u001b[49m\u001b[43m \u001b[49m\u001b[43m_pair\u001b[49m\u001b[43m(\u001b[49m\u001b[38;5;241;43m0\u001b[39;49m\u001b[43m)\u001b[49m\u001b[43m,\u001b[49m\u001b[43m \u001b[49m\u001b[43mgroups\u001b[49m\u001b[43m,\u001b[49m\u001b[43m \u001b[49m\u001b[43mbias\u001b[49m\u001b[43m,\u001b[49m\u001b[43m \u001b[49m\u001b[43mpadding_mode\u001b[49m\u001b[43m,\u001b[49m\u001b[43m \u001b[49m\u001b[38;5;241;43m*\u001b[39;49m\u001b[38;5;241;43m*\u001b[39;49m\u001b[43mfactory_kwargs\u001b[49m\u001b[43m)\u001b[49m\n",
      "File \u001b[0;32m/usr/local/lib/python3.8/dist-packages/torch/nn/modules/conv.py:138\u001b[0m, in \u001b[0;36m_ConvNd.__init__\u001b[0;34m(self, in_channels, out_channels, kernel_size, stride, padding, dilation, transposed, output_padding, groups, bias, padding_mode, device, dtype)\u001b[0m\n\u001b[1;32m    135\u001b[0m \u001b[38;5;28;01melse\u001b[39;00m:\n\u001b[1;32m    136\u001b[0m     \u001b[38;5;28mself\u001b[39m\u001b[38;5;241m.\u001b[39mregister_parameter(\u001b[38;5;124m'\u001b[39m\u001b[38;5;124mbias\u001b[39m\u001b[38;5;124m'\u001b[39m, \u001b[38;5;28;01mNone\u001b[39;00m)\n\u001b[0;32m--> 138\u001b[0m \u001b[38;5;28;43mself\u001b[39;49m\u001b[38;5;241;43m.\u001b[39;49m\u001b[43mreset_parameters\u001b[49m\u001b[43m(\u001b[49m\u001b[43m)\u001b[49m\n",
      "File \u001b[0;32m/usr/local/lib/python3.8/dist-packages/torch/nn/modules/conv.py:144\u001b[0m, in \u001b[0;36m_ConvNd.reset_parameters\u001b[0;34m(self)\u001b[0m\n\u001b[1;32m    140\u001b[0m \u001b[38;5;28;01mdef\u001b[39;00m \u001b[38;5;21mreset_parameters\u001b[39m(\u001b[38;5;28mself\u001b[39m) \u001b[38;5;241m-\u001b[39m\u001b[38;5;241m>\u001b[39m \u001b[38;5;28;01mNone\u001b[39;00m:\n\u001b[1;32m    141\u001b[0m     \u001b[38;5;66;03m# Setting a=sqrt(5) in kaiming_uniform is the same as initializing with\u001b[39;00m\n\u001b[1;32m    142\u001b[0m     \u001b[38;5;66;03m# uniform(-1/sqrt(k), 1/sqrt(k)), where k = weight.size(1) * prod(*kernel_size)\u001b[39;00m\n\u001b[1;32m    143\u001b[0m     \u001b[38;5;66;03m# For more details see: https://github.com/pytorch/pytorch/issues/15314#issuecomment-477448573\u001b[39;00m\n\u001b[0;32m--> 144\u001b[0m     \u001b[43minit\u001b[49m\u001b[38;5;241;43m.\u001b[39;49m\u001b[43mkaiming_uniform_\u001b[49m\u001b[43m(\u001b[49m\u001b[38;5;28;43mself\u001b[39;49m\u001b[38;5;241;43m.\u001b[39;49m\u001b[43mweight\u001b[49m\u001b[43m,\u001b[49m\u001b[43m \u001b[49m\u001b[43ma\u001b[49m\u001b[38;5;241;43m=\u001b[39;49m\u001b[43mmath\u001b[49m\u001b[38;5;241;43m.\u001b[39;49m\u001b[43msqrt\u001b[49m\u001b[43m(\u001b[49m\u001b[38;5;241;43m5\u001b[39;49m\u001b[43m)\u001b[49m\u001b[43m)\u001b[49m\n\u001b[1;32m    145\u001b[0m     \u001b[38;5;28;01mif\u001b[39;00m \u001b[38;5;28mself\u001b[39m\u001b[38;5;241m.\u001b[39mbias \u001b[38;5;129;01mis\u001b[39;00m \u001b[38;5;129;01mnot\u001b[39;00m \u001b[38;5;28;01mNone\u001b[39;00m:\n\u001b[1;32m    146\u001b[0m         fan_in, _ \u001b[38;5;241m=\u001b[39m init\u001b[38;5;241m.\u001b[39m_calculate_fan_in_and_fan_out(\u001b[38;5;28mself\u001b[39m\u001b[38;5;241m.\u001b[39mweight)\n",
      "File \u001b[0;32m/usr/local/lib/python3.8/dist-packages/torch/nn/init.py:395\u001b[0m, in \u001b[0;36mkaiming_uniform_\u001b[0;34m(tensor, a, mode, nonlinearity)\u001b[0m\n\u001b[1;32m    393\u001b[0m bound \u001b[38;5;241m=\u001b[39m math\u001b[38;5;241m.\u001b[39msqrt(\u001b[38;5;241m3.0\u001b[39m) \u001b[38;5;241m*\u001b[39m std  \u001b[38;5;66;03m# Calculate uniform bounds from standard deviation\u001b[39;00m\n\u001b[1;32m    394\u001b[0m \u001b[38;5;28;01mwith\u001b[39;00m torch\u001b[38;5;241m.\u001b[39mno_grad():\n\u001b[0;32m--> 395\u001b[0m     \u001b[38;5;28;01mreturn\u001b[39;00m \u001b[43mtensor\u001b[49m\u001b[38;5;241;43m.\u001b[39;49m\u001b[43muniform_\u001b[49m\u001b[43m(\u001b[49m\u001b[38;5;241;43m-\u001b[39;49m\u001b[43mbound\u001b[49m\u001b[43m,\u001b[49m\u001b[43m \u001b[49m\u001b[43mbound\u001b[49m\u001b[43m)\u001b[49m\n",
      "\u001b[0;31mKeyboardInterrupt\u001b[0m: "
     ]
    }
   ],
   "source": [
    "for run_num in range(3):\n",
    "    for percent in [100]:\n",
    "        while True:\n",
    "            modified = base.copy()\n",
    "            all_keys = [k for k in modified if 'switch' not in k]\n",
    "            random.shuffle(all_keys)\n",
    "            all_keys = all_keys[:len(all_keys)*percent//100]\n",
    "            for k in all_keys:\n",
    "                modified[k] = 'zero'\n",
    "            with fixed_arch(modified):\n",
    "                cnn_model = model.CNN(28, 1, 16, 8, 3, auxiliary=True)\n",
    "            out = cnn_model(x)\n",
    "            if abs(out[0][1] - out[0][0]).sum()>1e-3:\n",
    "                with open(f'model_construction/random_pruned/{run_num}_{percent}.json', 'w') as out:\n",
    "                    out.write(json.dumps(modified))\n",
    "                    break\n",
    "            else:\n",
    "                print ('zero path')"
   ]
  },
  {
   "cell_type": "code",
   "execution_count": 37,
   "id": "2795e463",
   "metadata": {},
   "outputs": [
    {
     "data": {
      "text/plain": [
       "tensor([[-0.0206,  0.0083,  0.0284, -0.0095, -0.0003, -0.0194, -0.0172,  0.0078],\n",
       "        [-0.0206,  0.0083,  0.0284, -0.0095, -0.0003, -0.0194, -0.0172,  0.0078],\n",
       "        [-0.0206,  0.0083,  0.0284, -0.0095, -0.0003, -0.0194, -0.0172,  0.0078],\n",
       "        [-0.0206,  0.0083,  0.0284, -0.0095, -0.0003, -0.0194, -0.0172,  0.0078]],\n",
       "       grad_fn=<AddmmBackward0>)"
      ]
     },
     "execution_count": 37,
     "metadata": {},
     "output_type": "execute_result"
    }
   ],
   "source": [
    "out[1]"
   ]
  },
  {
   "cell_type": "code",
   "execution_count": 39,
   "id": "3f1e8060",
   "metadata": {},
   "outputs": [
    {
     "data": {
      "text/plain": [
       "tensor([0., 0., 0., 0., 0., 0., 0., 0.], grad_fn=<SubBackward0>)"
      ]
     },
     "execution_count": 39,
     "metadata": {},
     "output_type": "execute_result"
    }
   ],
   "source": []
  }
 ],
 "metadata": {
  "kernelspec": {
   "display_name": "Python 3 (ipykernel)",
   "language": "python",
   "name": "python3"
  },
  "language_info": {
   "codemirror_mode": {
    "name": "ipython",
    "version": 3
   },
   "file_extension": ".py",
   "mimetype": "text/x-python",
   "name": "python",
   "nbconvert_exporter": "python",
   "pygments_lexer": "ipython3",
   "version": "3.8.10"
  }
 },
 "nbformat": 4,
 "nbformat_minor": 5
}
