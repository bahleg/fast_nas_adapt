{
 "cells": [
  {
   "cell_type": "code",
   "execution_count": 1,
   "id": "8ca8cc68-0a88-47b9-9000-09b8920a0eb1",
   "metadata": {},
   "outputs": [],
   "source": [
    "import torch\n",
    "from src.module2graph import GraphInterperterWithGamma\n",
    "from src.resnet18 import ResNet18\n",
    "import numpy as np\n",
    "\n",
    "import graphviz\n"
   ]
  },
  {
   "cell_type": "code",
   "execution_count": 2,
   "id": "585258cb-0dc7-437e-b557-43715b067a01",
   "metadata": {},
   "outputs": [
    {
     "name": "stderr",
     "output_type": "stream",
     "text": [
      "Using cache found in /Users/konstantinakovlev/.cache/torch/hub/pytorch_vision_v0.10.0\n"
     ]
    }
   ],
   "source": [
    "resnet = ResNet18()\n",
    "warp = GraphInterperterWithGamma(resnet)"
   ]
  },
  {
   "cell_type": "code",
   "execution_count": 3,
   "id": "da9e871c-8057-4c52-8f4e-b8f65a925d1c",
   "metadata": {},
   "outputs": [],
   "source": [
    "named_dict = dict(resnet.named_modules())\n",
    "\n",
    "for node in warp.graph.nodes:\n",
    "    if node.op == 'call_module':\n",
    "        pass\n",
    "        # print('Norm', np.sqrt(sum([(p ** 2).sum().item() \\\n",
    "        #                            for p in named_dict[node.target].parameters()])))\n",
    "    # print(node.op, node.name, node.args)\n",
    "    # break\n",
    "    "
   ]
  },
  {
   "cell_type": "code",
   "execution_count": 4,
   "id": "38c5902d-6438-45a0-8c66-0bd5beaf4b40",
   "metadata": {},
   "outputs": [],
   "source": [
    "def module_to_graph(m: torch.nn.Module):\n",
    "    warp = GraphInterperterWithGamma(m)\n",
    "    named_dict = dict(m.named_modules())\n",
    "    edges = [] # (from, to)\n",
    "    weights = {'x': 0} # node: params\n",
    "    for node in warp.graph.nodes:\n",
    "        # no placeholder and call_mathod\n",
    "        if node.op == 'call_module':\n",
    "            n_params = sum([p.numel() for p in named_dict[node.target].parameters()])\n",
    "            weights[node.name] = n_params\n",
    "            assert len(node.args) == 1\n",
    "            for arg in node.args:\n",
    "                if type(arg) == torch.fx.Node:  # ignore constants\n",
    "                    edges.append((arg.name, node.name))\n",
    "        elif node.op == 'call_function':\n",
    "            for arg in node.args:\n",
    "                if type(arg) == torch.fx.Node:  # ignore constants\n",
    "                    edges.append((arg.name, node.name))\n",
    "            weights[node.name] = 0\n",
    "        elif node.op == 'output':\n",
    "            edges.append((node.args[0][0].name, node.name))\n",
    "            weights['output'] = 0\n",
    "            \n",
    "    return edges, {'_'.join(k.split('.')): v for k, v in weights.items()}\n",
    "    "
   ]
  },
  {
   "cell_type": "code",
   "execution_count": 5,
   "id": "c623918b-e105-49e5-a538-3eb181fbdd4c",
   "metadata": {},
   "outputs": [
    {
     "name": "stderr",
     "output_type": "stream",
     "text": [
      "Using cache found in /Users/konstantinakovlev/.cache/torch/hub/pytorch_vision_v0.10.0\n"
     ]
    },
    {
     "data": {
      "text/plain": [
       "([('x', 'model_conv1'),\n",
       "  ('model_conv1', 'model_bn1'),\n",
       "  ('model_bn1', 'model_relu'),\n",
       "  ('model_relu', 'model_maxpool'),\n",
       "  ('model_maxpool', 'model_layer1_0_conv1'),\n",
       "  ('model_layer1_0_conv1', 'model_layer1_0_bn1'),\n",
       "  ('model_layer1_0_bn1', 'model_layer1_0_relu'),\n",
       "  ('model_layer1_0_relu', 'model_layer1_0_conv2'),\n",
       "  ('model_layer1_0_conv2', 'model_layer1_0_bn2'),\n",
       "  ('model_layer1_0_bn2', 'add')],\n",
       " [('x', 0),\n",
       "  ('model_conv1', 9408),\n",
       "  ('model_bn1', 128),\n",
       "  ('model_relu', 0),\n",
       "  ('model_maxpool', 0),\n",
       "  ('model_layer1_0_conv1', 36864),\n",
       "  ('model_layer1_0_bn1', 128),\n",
       "  ('model_layer1_0_relu', 0),\n",
       "  ('model_layer1_0_conv2', 36864),\n",
       "  ('model_layer1_0_bn2', 128)])"
      ]
     },
     "execution_count": 5,
     "metadata": {},
     "output_type": "execute_result"
    }
   ],
   "source": [
    "edges, weights = module_to_graph(ResNet18())\n",
    "# edges, weights\n",
    "edges[:10], list(weights.items())[:10]"
   ]
  },
  {
   "cell_type": "code",
   "execution_count": 6,
   "id": "b19ad39f-3101-4acb-92f5-253475bb807a",
   "metadata": {},
   "outputs": [],
   "source": [
    "g = graphviz.Digraph('G', filename='hello.gv')\n",
    "\n",
    "for src, dst in edges:\n",
    "    g.edge(src, dst)\n",
    "\n",
    "# g"
   ]
  },
  {
   "cell_type": "code",
   "execution_count": 7,
   "id": "50549e3d-8cc0-4284-b943-75821dbef95d",
   "metadata": {},
   "outputs": [],
   "source": [
    "# TODO: magnitude/Molchanov\n",
    "edges_importance = [1] * len(edges)"
   ]
  },
  {
   "cell_type": "markdown",
   "id": "9f72ce1c-7668-4708-b0a8-b30e37fc9e69",
   "metadata": {},
   "source": [
    "### Pseudocode\n",
    "\n",
    "1. Consider the vertex that is one of the a childs of the built graph. Try to put it into each leayer where possible, minimizing the loss (the total weight of pruned edges). Note that the ansestors must be in the current or the previous layer. Also consider the case when the vertex is isolated, i.e. we create a new layer.\n",
    "\n",
    "2. Repeat (1) until there exist vertices\n",
    "\n"
   ]
  },
  {
   "cell_type": "code",
   "execution_count": 8,
   "id": "88c3fe4b-103a-42e2-b6f8-559fd2525dca",
   "metadata": {},
   "outputs": [
    {
     "data": {
      "text/plain": [
       "{'x': 0,\n",
       " 'model_conv1': 0,\n",
       " 'model_bn1': 0,\n",
       " 'model_relu': 0,\n",
       " 'model_maxpool': 0,\n",
       " 'model_layer1_0_conv1': 0,\n",
       " 'model_layer1_0_bn1': 1,\n",
       " 'model_layer1_0_relu': 1,\n",
       " 'model_layer1_0_conv2': 1,\n",
       " 'model_layer1_0_bn2': 1,\n",
       " 'add': 1,\n",
       " 'model_layer1_0_relu_1': 2,\n",
       " 'model_layer1_1_conv1': 2,\n",
       " 'model_layer1_1_bn1': 2,\n",
       " 'model_layer1_1_relu': 2,\n",
       " 'model_layer1_1_conv2': 2,\n",
       " 'model_layer1_1_bn2': 3,\n",
       " 'add_1': 3,\n",
       " 'model_layer1_1_relu_1': 3,\n",
       " 'model_layer2_0_conv1': 3,\n",
       " 'model_layer2_0_bn1': 3,\n",
       " 'model_layer2_0_relu': 4,\n",
       " 'model_layer2_0_conv2': 4,\n",
       " 'model_layer2_0_bn2': 4,\n",
       " 'model_layer2_0_downsample_0': -100,\n",
       " 'model_layer2_0_downsample_1': -100,\n",
       " 'add_2': 4,\n",
       " 'model_layer2_0_relu_1': 4,\n",
       " 'model_layer2_1_conv1': 5,\n",
       " 'model_layer2_1_bn1': 5,\n",
       " 'model_layer2_1_relu': 5,\n",
       " 'model_layer2_1_conv2': 5,\n",
       " 'model_layer2_1_bn2': 5,\n",
       " 'add_3': 6,\n",
       " 'model_layer2_1_relu_1': 6,\n",
       " 'model_layer3_0_conv1': 6,\n",
       " 'model_layer3_0_bn1': 6,\n",
       " 'model_layer3_0_relu': 6,\n",
       " 'model_layer3_0_conv2': 7,\n",
       " 'model_layer3_0_bn2': 7,\n",
       " 'model_layer3_0_downsample_0': -100,\n",
       " 'model_layer3_0_downsample_1': -100,\n",
       " 'add_4': 7,\n",
       " 'model_layer3_0_relu_1': 7,\n",
       " 'model_layer3_1_conv1': 7,\n",
       " 'model_layer3_1_bn1': 8,\n",
       " 'model_layer3_1_relu': 8,\n",
       " 'model_layer3_1_conv2': 8,\n",
       " 'model_layer3_1_bn2': 8,\n",
       " 'add_5': 8,\n",
       " 'model_layer3_1_relu_1': 9,\n",
       " 'model_layer4_0_conv1': 9,\n",
       " 'model_layer4_0_bn1': 9,\n",
       " 'model_layer4_0_relu': 9,\n",
       " 'model_layer4_0_conv2': 9,\n",
       " 'model_layer4_0_bn2': 10,\n",
       " 'model_layer4_0_downsample_0': -100,\n",
       " 'model_layer4_0_downsample_1': -100,\n",
       " 'add_6': 10,\n",
       " 'model_layer4_0_relu_1': 10,\n",
       " 'model_layer4_1_conv1': 10,\n",
       " 'model_layer4_1_bn1': 10,\n",
       " 'model_layer4_1_relu': 11,\n",
       " 'model_layer4_1_conv2': 11,\n",
       " 'model_layer4_1_bn2': 11,\n",
       " 'add_7': 11,\n",
       " 'model_layer4_1_relu_1': 11,\n",
       " 'model_avgpool': 12,\n",
       " 'flatten': 12,\n",
       " 'model_fc': 12,\n",
       " 'output': 12}"
      ]
     },
     "execution_count": 8,
     "metadata": {},
     "output_type": "execute_result"
    }
   ],
   "source": [
    "def get_subgraph(edges, weights, e_importance, memory=1e10):\n",
    "    # build a graph matrix\n",
    "    node_ids = {k: i for i, k in enumerate(weights)}\n",
    "    id_to_node = [node for _, node in enumerate(weights)]\n",
    "    m = np.zeros((len(node_ids), len(node_ids))).astype(np.int32)\n",
    "    assert len(edges) == len(e_importance)\n",
    "    for (src, dst), w in zip(edges, e_importance):\n",
    "        src_id, dst_id = node_ids[src], node_ids[dst]\n",
    "        m[src_id, dst_id] = w\n",
    "    \n",
    "    node_to_layer = [-100] * len(node_ids)\n",
    "    layer_to_memory = [0]\n",
    "    node_to_layer[node_ids['x']] = 0\n",
    "    cur_layer = 0\n",
    "    for _ in range(m.shape[0]):\n",
    "        for node_id in range(m.shape[0]):  # node from the current layer\n",
    "            if node_to_layer[node_id] != cur_layer:\n",
    "                continue\n",
    "            best_id, best_overflow_id = -1, -1\n",
    "            best_value, best_overflow_value = 1e9, 1e9\n",
    "            for to in range(m.shape[0]):  # candidate to be put\n",
    "                if m[node_id, to] == 0 or node_to_layer[to] != -100:\n",
    "                    continue\n",
    "                is_overflow = weights[id_to_node[to]] + layer_to_memory[cur_layer] > memory\n",
    "                # try to add it to the current layer (TODO: try adding to all layers, which seems to be irrelevant)\n",
    "                pruned_value = sum([m[j, to] for j in range(m.shape[0]) \\\n",
    "                                    if m[j, to] != 0 and (node_to_layer[j] < cur_layer - 1 or node_to_layer[j] > cur_layer)])\n",
    "                if is_overflow:\n",
    "                    if pruned_value < best_overflow_value:\n",
    "                        best_overflow_value = pruned_value\n",
    "                        best_overflow_id = to\n",
    "                else:\n",
    "                    if pruned_value < best_value:\n",
    "                        best_value = pruned_value\n",
    "                        best_id = to\n",
    "            if best_id != -1:\n",
    "                assert node_to_layer[best_id] == -100\n",
    "                node_to_layer[best_id] = cur_layer\n",
    "                layer_to_memory[cur_layer] += weights[id_to_node[best_id]]\n",
    "            elif best_id == -1 and best_overflow_id != -1:  # overflow\n",
    "                cur_layer += 1\n",
    "                node_to_layer[best_overflow_id] = cur_layer\n",
    "                layer_to_memory.append(weights[id_to_node[best_overflow_id]])\n",
    "    \n",
    "    # TODO: finally, prune the edges given a layer for each node\n",
    "    return {'layers': {id_to_node[i]: l for i, l in enumerate(node_to_layer)}, 'm': m}\n",
    "    \n",
    "\n",
    "get_subgraph(edges, {k: 1 for k in weights}, edges_importance, 5)['layers']"
   ]
  },
  {
   "cell_type": "markdown",
   "id": "8ea4e522-cbd1-4bbc-b0f9-55f00626a0fe",
   "metadata": {},
   "source": [
    "## Synthetic Unet-like test"
   ]
  },
  {
   "cell_type": "code",
   "execution_count": 9,
   "id": "2b4048e1-4d11-4026-b0d2-bd1ecb0fb78d",
   "metadata": {},
   "outputs": [
    {
     "data": {
      "image/svg+xml": [
       "<?xml version=\"1.0\" encoding=\"UTF-8\" standalone=\"no\"?>\n",
       "<!DOCTYPE svg PUBLIC \"-//W3C//DTD SVG 1.1//EN\"\n",
       " \"http://www.w3.org/Graphics/SVG/1.1/DTD/svg11.dtd\">\n",
       "<!-- Generated by graphviz version 8.1.0 (20230707.0739)\n",
       " -->\n",
       "<!-- Title: G Pages: 1 -->\n",
       "<svg width=\"161pt\" height=\"398pt\"\n",
       " viewBox=\"0.00 0.00 160.50 398.00\" xmlns=\"http://www.w3.org/2000/svg\" xmlns:xlink=\"http://www.w3.org/1999/xlink\">\n",
       "<g id=\"graph0\" class=\"graph\" transform=\"scale(1 1) rotate(0) translate(4 394)\">\n",
       "<title>G</title>\n",
       "<polygon fill=\"white\" stroke=\"none\" points=\"-4,4 -4,-394 156.5,-394 156.5,4 -4,4\"/>\n",
       "<!-- x -->\n",
       "<g id=\"node1\" class=\"node\">\n",
       "<title>x</title>\n",
       "<ellipse fill=\"none\" stroke=\"black\" cx=\"112\" cy=\"-372\" rx=\"27\" ry=\"18\"/>\n",
       "<text text-anchor=\"middle\" x=\"112\" y=\"-366.95\" font-family=\"Times,serif\" font-size=\"14.00\">x</text>\n",
       "</g>\n",
       "<!-- 1 -->\n",
       "<g id=\"node2\" class=\"node\">\n",
       "<title>1</title>\n",
       "<ellipse fill=\"none\" stroke=\"black\" cx=\"84\" cy=\"-283.5\" rx=\"27\" ry=\"18\"/>\n",
       "<text text-anchor=\"middle\" x=\"84\" y=\"-278.45\" font-family=\"Times,serif\" font-size=\"14.00\">1</text>\n",
       "</g>\n",
       "<!-- x&#45;&gt;1 -->\n",
       "<g id=\"edge1\" class=\"edge\">\n",
       "<title>x&#45;&gt;1</title>\n",
       "<path fill=\"none\" stroke=\"black\" d=\"M106.47,-353.91C102.59,-341.94 97.34,-325.7 92.88,-311.93\"/>\n",
       "<polygon fill=\"black\" stroke=\"black\" points=\"95.93,-310.99 89.52,-302.55 89.27,-313.15 95.93,-310.99\"/>\n",
       "<text text-anchor=\"middle\" x=\"103.38\" y=\"-322.7\" font-family=\"Times,serif\" font-size=\"14.00\">1</text>\n",
       "</g>\n",
       "<!-- 4 -->\n",
       "<g id=\"node5\" class=\"node\">\n",
       "<title>4</title>\n",
       "<ellipse fill=\"none\" stroke=\"black\" cx=\"112\" cy=\"-18\" rx=\"27\" ry=\"18\"/>\n",
       "<text text-anchor=\"middle\" x=\"112\" y=\"-12.95\" font-family=\"Times,serif\" font-size=\"14.00\">4</text>\n",
       "</g>\n",
       "<!-- x&#45;&gt;4 -->\n",
       "<g id=\"edge5\" class=\"edge\">\n",
       "<title>x&#45;&gt;4</title>\n",
       "<path fill=\"none\" stroke=\"black\" d=\"M120.39,-354.57C128.32,-337.51 139,-309.83 139,-284.5 139,-284.5 139,-284.5 139,-105.5 139,-84.52 131.68,-61.94 124.66,-45.1\"/>\n",
       "<polygon fill=\"black\" stroke=\"black\" points=\"127.63,-44.17 120.39,-36.43 121.23,-46.99 127.63,-44.17\"/>\n",
       "<text text-anchor=\"middle\" x=\"145.75\" y=\"-189.95\" font-family=\"Times,serif\" font-size=\"14.00\">10</text>\n",
       "</g>\n",
       "<!-- 2 -->\n",
       "<g id=\"node3\" class=\"node\">\n",
       "<title>2</title>\n",
       "<ellipse fill=\"none\" stroke=\"black\" cx=\"27\" cy=\"-195\" rx=\"27\" ry=\"18\"/>\n",
       "<text text-anchor=\"middle\" x=\"27\" y=\"-189.95\" font-family=\"Times,serif\" font-size=\"14.00\">2</text>\n",
       "</g>\n",
       "<!-- 1&#45;&gt;2 -->\n",
       "<g id=\"edge2\" class=\"edge\">\n",
       "<title>1&#45;&gt;2</title>\n",
       "<path fill=\"none\" stroke=\"black\" d=\"M73.55,-266.63C65.16,-253.91 53.24,-235.82 43.56,-221.13\"/>\n",
       "<polygon fill=\"black\" stroke=\"black\" points=\"46.01,-219.48 37.58,-213.06 40.16,-223.33 46.01,-219.48\"/>\n",
       "<text text-anchor=\"middle\" x=\"64.38\" y=\"-234.2\" font-family=\"Times,serif\" font-size=\"14.00\">1</text>\n",
       "</g>\n",
       "<!-- 3 -->\n",
       "<g id=\"node4\" class=\"node\">\n",
       "<title>3</title>\n",
       "<ellipse fill=\"none\" stroke=\"black\" cx=\"84\" cy=\"-106.5\" rx=\"27\" ry=\"18\"/>\n",
       "<text text-anchor=\"middle\" x=\"84\" y=\"-101.45\" font-family=\"Times,serif\" font-size=\"14.00\">3</text>\n",
       "</g>\n",
       "<!-- 1&#45;&gt;3 -->\n",
       "<g id=\"edge6\" class=\"edge\">\n",
       "<title>1&#45;&gt;3</title>\n",
       "<path fill=\"none\" stroke=\"black\" d=\"M84,-265.08C84,-234.81 84,-172.26 84,-135.72\"/>\n",
       "<polygon fill=\"black\" stroke=\"black\" points=\"87.5,-135.85 84,-125.85 80.5,-135.85 87.5,-135.85\"/>\n",
       "<text text-anchor=\"middle\" x=\"87.38\" y=\"-189.95\" font-family=\"Times,serif\" font-size=\"14.00\">5</text>\n",
       "</g>\n",
       "<!-- 2&#45;&gt;3 -->\n",
       "<g id=\"edge3\" class=\"edge\">\n",
       "<title>2&#45;&gt;3</title>\n",
       "<path fill=\"none\" stroke=\"black\" d=\"M37.45,-178.13C45.84,-165.41 57.76,-147.32 67.44,-132.63\"/>\n",
       "<polygon fill=\"black\" stroke=\"black\" points=\"70.84,-134.83 73.42,-124.56 64.99,-130.98 70.84,-134.83\"/>\n",
       "<text text-anchor=\"middle\" x=\"64.38\" y=\"-145.7\" font-family=\"Times,serif\" font-size=\"14.00\">1</text>\n",
       "</g>\n",
       "<!-- 3&#45;&gt;4 -->\n",
       "<g id=\"edge4\" class=\"edge\">\n",
       "<title>3&#45;&gt;4</title>\n",
       "<path fill=\"none\" stroke=\"black\" d=\"M89.53,-88.41C93.41,-76.44 98.66,-60.2 103.12,-46.43\"/>\n",
       "<polygon fill=\"black\" stroke=\"black\" points=\"106.73,-47.65 106.48,-37.05 100.07,-45.49 106.73,-47.65\"/>\n",
       "<text text-anchor=\"middle\" x=\"103.38\" y=\"-57.2\" font-family=\"Times,serif\" font-size=\"14.00\">1</text>\n",
       "</g>\n",
       "</g>\n",
       "</svg>\n"
      ],
      "text/plain": [
       "<graphviz.graphs.Digraph at 0x7fee084e2990>"
      ]
     },
     "execution_count": 9,
     "metadata": {},
     "output_type": "execute_result"
    }
   ],
   "source": [
    "g = graphviz.Digraph('G', filename='hello.gv')\n",
    "\n",
    "edges = [('x', '1'), ('1', '2'), ('2', '3'), ('3', '4'), \\\n",
    "         ('x', '4'), ('1', '3')]\n",
    "\n",
    "weights = {str(n) if n > 0 else 'x': 1 for n in range(5)}\n",
    "edges_importance = [1] * 6\n",
    "edges_importance[-2] = 10\n",
    "edges_importance[-1] = 5\n",
    "\n",
    "for (src, dst), w in zip(edges, edges_importance):\n",
    "    g.edge(src, dst, label=str(w))\n",
    "\n",
    "g"
   ]
  },
  {
   "cell_type": "code",
   "execution_count": 11,
   "id": "b9a431e6-8448-45a8-8a45-45c7652146de",
   "metadata": {},
   "outputs": [
    {
     "data": {
      "text/plain": [
       "{'x': 0, '1': 0, '2': 0, '3': 0, '4': 1}"
      ]
     },
     "execution_count": 11,
     "metadata": {},
     "output_type": "execute_result"
    }
   ],
   "source": [
    "get_subgraph(edges, weights, edges_importance, 3)['layers']\n",
    "# optimal [x: 0, (123): 1, 4: 2]"
   ]
  },
  {
   "cell_type": "markdown",
   "id": "0fc6e12e-b212-46e7-bf21-94db9723bc72",
   "metadata": {},
   "source": [
    "### Conclusion\n",
    "\n",
    "It seems that the problem is NP-hard. We need to come up with a new approach.\n"
   ]
  },
  {
   "cell_type": "code",
   "execution_count": null,
   "id": "b947c970-0b2b-431c-a3b4-f79abc50d476",
   "metadata": {},
   "outputs": [],
   "source": []
  },
  {
   "cell_type": "code",
   "execution_count": null,
   "id": "dec3df64-6d54-4fcc-b250-ebd66ce88ba8",
   "metadata": {},
   "outputs": [],
   "source": []
  }
 ],
 "metadata": {
  "kernelspec": {
   "display_name": "Python 3 (ipykernel)",
   "language": "python",
   "name": "python3"
  },
  "language_info": {
   "codemirror_mode": {
    "name": "ipython",
    "version": 3
   },
   "file_extension": ".py",
   "mimetype": "text/x-python",
   "name": "python",
   "nbconvert_exporter": "python",
   "pygments_lexer": "ipython3",
   "version": "3.7.13"
  }
 },
 "nbformat": 4,
 "nbformat_minor": 5
}
