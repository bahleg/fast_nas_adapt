{
 "cells": [
  {
   "cell_type": "code",
   "execution_count": 14,
   "id": "5aaae1e0",
   "metadata": {},
   "outputs": [],
   "source": [
    "import torch\n",
    "import torch.fx\n",
    "from torch.fx.node import Node\n",
    "\n",
    "from typing import Dict\n"
   ]
  },
  {
   "cell_type": "code",
   "execution_count": 8,
   "id": "3577c70f",
   "metadata": {},
   "outputs": [
    {
     "data": {
      "text/plain": [
       "torch.Size([256, 10])"
      ]
     },
     "execution_count": 8,
     "metadata": {},
     "output_type": "execute_result"
    }
   ],
   "source": [
    "class GraphLikeModel(torch.nn.Module):\n",
    "    def __init__(self):\n",
    "        super().__init__()\n",
    "        self.branch1 = torch.nn.Linear(128, 64)\n",
    "        self.branch2 = torch.nn.Linear(128, 64)\n",
    "        self.head = torch.nn.Linear(64, 10)\n",
    "    def forward(self, x):\n",
    "        return self.head(self.branch1(x)+self.branch2(x))\n",
    "x = torch.rand(256, 128)    \n",
    "model = GraphLikeModel()\n",
    "model(x).shape"
   ]
  },
  {
   "cell_type": "code",
   "execution_count": 15,
   "id": "5aa76958",
   "metadata": {},
   "outputs": [],
   "source": [
    "traced_graph = torch.fx.symbolic_trace(model)"
   ]
  },
  {
   "cell_type": "code",
   "execution_count": 16,
   "id": "87842edf",
   "metadata": {},
   "outputs": [
    {
     "name": "stdout",
     "output_type": "stream",
     "text": [
      "graph():\n",
      "    %x : [#users=2] = placeholder[target=x]\n",
      "    %branch1 : [#users=1] = call_module[target=branch1](args = (%x,), kwargs = {})\n",
      "    %branch2 : [#users=1] = call_module[target=branch2](args = (%x,), kwargs = {})\n",
      "    %add : [#users=1] = call_function[target=operator.add](args = (%branch1, %branch2), kwargs = {})\n",
      "    %head : [#users=1] = call_module[target=head](args = (%add,), kwargs = {})\n",
      "    return head\n"
     ]
    }
   ],
   "source": [
    "print(traced_graph.graph)"
   ]
  },
  {
   "cell_type": "code",
   "execution_count": 63,
   "id": "a3694b2c",
   "metadata": {},
   "outputs": [],
   "source": [
    "class GraphInterperter:\n",
    "    \"\"\"\n",
    "    see torch.fx shape propagation\n",
    "    \"\"\"\n",
    "    def __init__(self, mod):\n",
    "        self.mod = mod\n",
    "        self.graph = mod.graph\n",
    "        self.modules = dict(self.mod.named_modules())\n",
    "\n",
    "    def __call__(self, *args):\n",
    "        args_iter = iter(args)\n",
    "        env : Dict[str, Node] = {}\n",
    "\n",
    "        def load_arg(a):\n",
    "            return torch.fx.graph.map_arg(a, lambda n: env[n.name])\n",
    "\n",
    "        def fetch_attr(target : str):\n",
    "            target_atoms = target.split('.')\n",
    "            attr_itr = self.mod\n",
    "            for i, atom in enumerate(target_atoms):\n",
    "                if not hasattr(attr_itr, atom):\n",
    "                    raise RuntimeError(f\"Node referenced nonexistant target {'.'.join(target_atoms[:i])}\")\n",
    "                attr_itr = getattr(attr_itr, atom)\n",
    "            return attr_itr\n",
    "\n",
    "        for node in self.graph.nodes:\n",
    "            if node.op == 'placeholder':\n",
    "                result = next(args_iter)\n",
    "            elif node.op == 'get_attr':\n",
    "                result = fetch_attr(node.target)\n",
    "            elif node.op == 'call_function':\n",
    "                result = node.target(*load_arg(node.args), **load_arg(node.kwargs))\n",
    "            elif node.op == 'call_method':\n",
    "                self_obj, *args = load_arg(node.args)\n",
    "                kwargs = load_arg(node.kwargs)\n",
    "                result = getattr(self_obj, node.target)(*args, **kwargs)\n",
    "            elif node.op == 'call_module':\n",
    "                result = self.modules[node.target](*load_arg(node.args), **load_arg(node.kwargs))\n",
    "            if node.op == 'output':\n",
    "                return result\n",
    "            \n",
    "            \n",
    "            env[node.name] = result\n",
    "        "
   ]
  },
  {
   "cell_type": "code",
   "execution_count": 65,
   "id": "83344743",
   "metadata": {},
   "outputs": [],
   "source": [
    "prop = GraphInterperter(traced_graph)"
   ]
  },
  {
   "cell_type": "code",
   "execution_count": 66,
   "id": "faf739f6",
   "metadata": {},
   "outputs": [
    {
     "data": {
      "text/plain": [
       "tensor([[-0.1441,  0.1658, -0.0016,  ..., -0.0394, -0.1156,  0.1525],\n",
       "        [ 0.1496,  0.1661, -0.1636,  ..., -0.3794, -0.1345,  0.0840],\n",
       "        [ 0.1438,  0.1154, -0.1784,  ..., -0.2873,  0.0075, -0.2276],\n",
       "        ...,\n",
       "        [ 0.0880,  0.1487, -0.1796,  ..., -0.1099,  0.0612, -0.0129],\n",
       "        [ 0.0730,  0.1332, -0.0952,  ..., -0.0871, -0.2447,  0.0098],\n",
       "        [ 0.0216,  0.1172, -0.1538,  ..., -0.2286,  0.1072, -0.1076]],\n",
       "       grad_fn=<AddmmBackward0>)"
      ]
     },
     "execution_count": 66,
     "metadata": {},
     "output_type": "execute_result"
    }
   ],
   "source": [
    "prop(x)"
   ]
  },
  {
   "cell_type": "code",
   "execution_count": 67,
   "id": "8a62f822",
   "metadata": {
    "scrolled": false
   },
   "outputs": [
    {
     "data": {
      "text/plain": [
       "tensor([[-0.1441,  0.1658, -0.0016,  ..., -0.0394, -0.1156,  0.1525],\n",
       "        [ 0.1496,  0.1661, -0.1636,  ..., -0.3794, -0.1345,  0.0840],\n",
       "        [ 0.1438,  0.1154, -0.1784,  ..., -0.2873,  0.0075, -0.2276],\n",
       "        ...,\n",
       "        [ 0.0880,  0.1487, -0.1796,  ..., -0.1099,  0.0612, -0.0129],\n",
       "        [ 0.0730,  0.1332, -0.0952,  ..., -0.0871, -0.2447,  0.0098],\n",
       "        [ 0.0216,  0.1172, -0.1538,  ..., -0.2286,  0.1072, -0.1076]],\n",
       "       grad_fn=<AddmmBackward0>)"
      ]
     },
     "execution_count": 67,
     "metadata": {},
     "output_type": "execute_result"
    }
   ],
   "source": [
    "model(x)"
   ]
  },
  {
   "cell_type": "code",
   "execution_count": 76,
   "id": "d07bc2b4",
   "metadata": {},
   "outputs": [],
   "source": [
    "class GraphInterperterWithGamma:\n",
    "    \"\"\"\n",
    "    тот же класс, но с гаммами для нод\n",
    "    \"\"\"\n",
    "    def __init__(self, mod):\n",
    "        self.mod = mod\n",
    "        self.graph = mod.graph\n",
    "        self.modules = dict(self.mod.named_modules())\n",
    "        self.gammas = {}\n",
    "        for node in self.graph.nodes:\n",
    "            if node.op == 'call_module':\n",
    "                self.gammas[str(node)] = 1.0 # перевод в str тут для удобства. в реалньых методах это не нужно\n",
    "                # да и вообще, тут по идее должен быть тензор/параметр\n",
    "\n",
    "    def __call__(self, *args):\n",
    "        args_iter = iter(args)\n",
    "        env : Dict[str, Node] = {}\n",
    "\n",
    "        def load_arg(a):\n",
    "            return torch.fx.graph.map_arg(a, lambda n: env[n.name])\n",
    "\n",
    "        def fetch_attr(target : str):\n",
    "            target_atoms = target.split('.')\n",
    "            attr_itr = self.mod\n",
    "            for i, atom in enumerate(target_atoms):\n",
    "                if not hasattr(attr_itr, atom):\n",
    "                    raise RuntimeError(f\"Node referenced nonexistant target {'.'.join(target_atoms[:i])}\")\n",
    "                attr_itr = getattr(attr_itr, atom)\n",
    "            return attr_itr\n",
    "\n",
    "        for node in self.graph.nodes:\n",
    "            if node.op == 'placeholder':\n",
    "                result = next(args_iter)\n",
    "            elif node.op == 'get_attr':\n",
    "                result = fetch_attr(node.target)\n",
    "            elif node.op == 'call_function':\n",
    "                result = node.target(*load_arg(node.args), **load_arg(node.kwargs))\n",
    "            elif node.op == 'call_method':\n",
    "                self_obj, *args = load_arg(node.args)\n",
    "                kwargs = load_arg(node.kwargs)\n",
    "                result = getattr(self_obj, node.target)(*args, **kwargs)\n",
    "            elif node.op == 'call_module':\n",
    "                result = self.modules[node.target](*load_arg(node.args), **load_arg(node.kwargs)) * self.gammas[str(node)]\n",
    "            if node.op == 'output':\n",
    "                return result\n",
    "                        \n",
    "            env[node.name] = result\n",
    "        "
   ]
  },
  {
   "cell_type": "code",
   "execution_count": 77,
   "id": "d976ca79",
   "metadata": {},
   "outputs": [],
   "source": [
    "gamma_graph = GraphInterperterWithGamma(traced_graph)"
   ]
  },
  {
   "cell_type": "code",
   "execution_count": 78,
   "id": "661b6752",
   "metadata": {},
   "outputs": [
    {
     "data": {
      "text/plain": [
       "tensor([[-0.1441,  0.1658, -0.0016,  ..., -0.0394, -0.1156,  0.1525],\n",
       "        [ 0.1496,  0.1661, -0.1636,  ..., -0.3794, -0.1345,  0.0840],\n",
       "        [ 0.1438,  0.1154, -0.1784,  ..., -0.2873,  0.0075, -0.2276],\n",
       "        ...,\n",
       "        [ 0.0880,  0.1487, -0.1796,  ..., -0.1099,  0.0612, -0.0129],\n",
       "        [ 0.0730,  0.1332, -0.0952,  ..., -0.0871, -0.2447,  0.0098],\n",
       "        [ 0.0216,  0.1172, -0.1538,  ..., -0.2286,  0.1072, -0.1076]],\n",
       "       grad_fn=<MulBackward0>)"
      ]
     },
     "execution_count": 78,
     "metadata": {},
     "output_type": "execute_result"
    }
   ],
   "source": [
    "gamma_graph(x)"
   ]
  },
  {
   "cell_type": "code",
   "execution_count": 79,
   "id": "eff96a19",
   "metadata": {},
   "outputs": [],
   "source": [
    "gamma_graph.gammas['branch1'] = 0.0"
   ]
  },
  {
   "cell_type": "code",
   "execution_count": 80,
   "id": "e3a50282",
   "metadata": {},
   "outputs": [
    {
     "data": {
      "text/plain": [
       "tensor([[ 0.1519,  0.0631, -0.0611,  ...,  0.4401, -0.3220,  0.1663],\n",
       "        [ 0.2076, -0.0517, -0.0655,  ...,  0.1796, -0.4026, -0.0234],\n",
       "        [ 0.1672,  0.0546, -0.1082,  ...,  0.1515, -0.2221, -0.1993],\n",
       "        ...,\n",
       "        [ 0.1904, -0.0106, -0.2424,  ...,  0.3191, -0.2320, -0.0055],\n",
       "        [ 0.0705,  0.0832, -0.1698,  ...,  0.1545, -0.2700, -0.1007],\n",
       "        [ 0.1491, -0.0325, -0.0811,  ...,  0.3080, -0.1795, -0.1576]],\n",
       "       grad_fn=<MulBackward0>)"
      ]
     },
     "execution_count": 80,
     "metadata": {},
     "output_type": "execute_result"
    }
   ],
   "source": [
    "gamma_graph(x)"
   ]
  },
  {
   "cell_type": "code",
   "execution_count": null,
   "id": "88adfe96",
   "metadata": {},
   "outputs": [],
   "source": []
  }
 ],
 "metadata": {
  "kernelspec": {
   "display_name": "Python 3 (ipykernel)",
   "language": "python",
   "name": "python3"
  },
  "language_info": {
   "codemirror_mode": {
    "name": "ipython",
    "version": 3
   },
   "file_extension": ".py",
   "mimetype": "text/x-python",
   "name": "python",
   "nbconvert_exporter": "python",
   "pygments_lexer": "ipython3",
   "version": "3.8.10"
  }
 },
 "nbformat": 4,
 "nbformat_minor": 5
}
